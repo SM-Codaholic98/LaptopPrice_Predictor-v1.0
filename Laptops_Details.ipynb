{
 "cells": [
  {
   "cell_type": "markdown",
   "metadata": {},
   "source": [
    "## Laptop Price Prediction"
   ]
  },
  {
   "cell_type": "code",
   "execution_count": 1,
   "metadata": {},
   "outputs": [
    {
     "data": {
      "text/html": [
       "        <script type=\"text/javascript\">\n",
       "        window.PlotlyConfig = {MathJaxConfig: 'local'};\n",
       "        if (window.MathJax && window.MathJax.Hub && window.MathJax.Hub.Config) {window.MathJax.Hub.Config({SVG: {font: \"STIX-Web\"}});}\n",
       "        if (typeof require !== 'undefined') {\n",
       "        require.undef(\"plotly\");\n",
       "        requirejs.config({\n",
       "            paths: {\n",
       "                'plotly': ['https://cdn.plot.ly/plotly-2.12.1.min']\n",
       "            }\n",
       "        });\n",
       "        require(['plotly'], function(Plotly) {\n",
       "            window._Plotly = Plotly;\n",
       "        });\n",
       "        }\n",
       "        </script>\n",
       "        "
      ]
     },
     "metadata": {},
     "output_type": "display_data"
    }
   ],
   "source": [
    "import pandas as pd\n",
    "import seaborn as sns\n",
    "import matplotlib.pyplot as plt\n",
    "import cufflinks as cf\n",
    "cf.go_offline()"
   ]
  },
  {
   "cell_type": "markdown",
   "metadata": {},
   "source": [
    "## Importing Dataset"
   ]
  },
  {
   "cell_type": "code",
   "execution_count": 2,
   "metadata": {},
   "outputs": [
    {
     "data": {
      "text/html": [
       "<div>\n",
       "<style scoped>\n",
       "    .dataframe tbody tr th:only-of-type {\n",
       "        vertical-align: middle;\n",
       "    }\n",
       "\n",
       "    .dataframe tbody tr th {\n",
       "        vertical-align: top;\n",
       "    }\n",
       "\n",
       "    .dataframe thead th {\n",
       "        text-align: right;\n",
       "    }\n",
       "</style>\n",
       "<table border=\"1\" class=\"dataframe\">\n",
       "  <thead>\n",
       "    <tr style=\"text-align: right;\">\n",
       "      <th></th>\n",
       "      <th>Unnamed: 0</th>\n",
       "      <th>Brand</th>\n",
       "      <th>Model Name</th>\n",
       "      <th>Processor</th>\n",
       "      <th>Operating System</th>\n",
       "      <th>Storage</th>\n",
       "      <th>RAM</th>\n",
       "      <th>Screen Size</th>\n",
       "      <th>Touch_Screen</th>\n",
       "      <th>Price</th>\n",
       "    </tr>\n",
       "  </thead>\n",
       "  <tbody>\n",
       "    <tr>\n",
       "      <th>0</th>\n",
       "      <td>0</td>\n",
       "      <td>HP</td>\n",
       "      <td>15s-fq5007TU</td>\n",
       "      <td>Core i3</td>\n",
       "      <td>Windows 11 Home</td>\n",
       "      <td>512 GB</td>\n",
       "      <td>8 GB</td>\n",
       "      <td>39.62 cm (15.6 Inch)</td>\n",
       "      <td>No</td>\n",
       "      <td>₹38,990</td>\n",
       "    </tr>\n",
       "    <tr>\n",
       "      <th>1</th>\n",
       "      <td>1</td>\n",
       "      <td>HP</td>\n",
       "      <td>15s-fy5003TU</td>\n",
       "      <td>Core i3</td>\n",
       "      <td>Windows 11 Home</td>\n",
       "      <td>512 GB</td>\n",
       "      <td>8 GB</td>\n",
       "      <td>39.62 cm (15.6 Inch)</td>\n",
       "      <td>No</td>\n",
       "      <td>₹37,990</td>\n",
       "    </tr>\n",
       "    <tr>\n",
       "      <th>2</th>\n",
       "      <td>2</td>\n",
       "      <td>Apple</td>\n",
       "      <td>2020 Macbook Air</td>\n",
       "      <td>M1</td>\n",
       "      <td>Mac OS Big Sur</td>\n",
       "      <td>256 GB</td>\n",
       "      <td>8 GB</td>\n",
       "      <td>33.78 cm (13.3 inch)</td>\n",
       "      <td>No</td>\n",
       "      <td>₹70,990</td>\n",
       "    </tr>\n",
       "    <tr>\n",
       "      <th>3</th>\n",
       "      <td>3</td>\n",
       "      <td>Apple</td>\n",
       "      <td>2020 Macbook Air</td>\n",
       "      <td>M1</td>\n",
       "      <td>Mac OS Big Sur</td>\n",
       "      <td>256 GB</td>\n",
       "      <td>8 GB</td>\n",
       "      <td>33.78 cm (13.3 inch)</td>\n",
       "      <td>No</td>\n",
       "      <td>₹70,990</td>\n",
       "    </tr>\n",
       "    <tr>\n",
       "      <th>4</th>\n",
       "      <td>4</td>\n",
       "      <td>Apple</td>\n",
       "      <td>2020 Macbook Air</td>\n",
       "      <td>M1</td>\n",
       "      <td>Mac OS Big Sur</td>\n",
       "      <td>256 GB</td>\n",
       "      <td>8 GB</td>\n",
       "      <td>33.78 cm (13.3 inch)</td>\n",
       "      <td>No</td>\n",
       "      <td>₹70,990</td>\n",
       "    </tr>\n",
       "    <tr>\n",
       "      <th>5</th>\n",
       "      <td>5</td>\n",
       "      <td>Lenovo</td>\n",
       "      <td>V15 G3 IAP</td>\n",
       "      <td>Core i7</td>\n",
       "      <td>Windows 11 Home</td>\n",
       "      <td>512 GB</td>\n",
       "      <td>16 GB</td>\n",
       "      <td>39.62 cm (15.6 Inch)</td>\n",
       "      <td>No</td>\n",
       "      <td>₹49,990</td>\n",
       "    </tr>\n",
       "    <tr>\n",
       "      <th>6</th>\n",
       "      <td>6</td>\n",
       "      <td>ASUS</td>\n",
       "      <td>X515EA-EJ522WS</td>\n",
       "      <td>Core i5</td>\n",
       "      <td>Windows 11 Home</td>\n",
       "      <td>NaN</td>\n",
       "      <td>8 GB</td>\n",
       "      <td>39.62 cm (15.6 Inch)</td>\n",
       "      <td>No</td>\n",
       "      <td>₹40,990</td>\n",
       "    </tr>\n",
       "    <tr>\n",
       "      <th>7</th>\n",
       "      <td>7</td>\n",
       "      <td>HP</td>\n",
       "      <td>15s- fr4000TU</td>\n",
       "      <td>Core i5</td>\n",
       "      <td>Windows 11 Home</td>\n",
       "      <td>512 GB</td>\n",
       "      <td>8 GB</td>\n",
       "      <td>39.62 cm (15.6 Inch)</td>\n",
       "      <td>No</td>\n",
       "      <td>₹46,990</td>\n",
       "    </tr>\n",
       "    <tr>\n",
       "      <th>8</th>\n",
       "      <td>8</td>\n",
       "      <td>ASUS</td>\n",
       "      <td>X1500EA-EJ311W</td>\n",
       "      <td>Core i3</td>\n",
       "      <td>Windows 11 Home</td>\n",
       "      <td>256 GB</td>\n",
       "      <td>8 GB</td>\n",
       "      <td>39.62 cm (15.6 Inch)</td>\n",
       "      <td>No</td>\n",
       "      <td>₹27,990</td>\n",
       "    </tr>\n",
       "    <tr>\n",
       "      <th>9</th>\n",
       "      <td>9</td>\n",
       "      <td>HP</td>\n",
       "      <td>15-fb0147AX</td>\n",
       "      <td>Ryzen 5 Hexa Core</td>\n",
       "      <td>Windows 11 Home</td>\n",
       "      <td>512 GB</td>\n",
       "      <td>8 GB</td>\n",
       "      <td>39.62 cm (15.6 Inch)</td>\n",
       "      <td>No</td>\n",
       "      <td>₹45,990</td>\n",
       "    </tr>\n",
       "  </tbody>\n",
       "</table>\n",
       "</div>"
      ],
      "text/plain": [
       "   Unnamed: 0   Brand        Model Name          Processor Operating System  \\\n",
       "0           0      HP      15s-fq5007TU            Core i3  Windows 11 Home   \n",
       "1           1      HP      15s-fy5003TU            Core i3  Windows 11 Home   \n",
       "2           2   Apple  2020 Macbook Air                 M1   Mac OS Big Sur   \n",
       "3           3   Apple  2020 Macbook Air                 M1   Mac OS Big Sur   \n",
       "4           4   Apple  2020 Macbook Air                 M1   Mac OS Big Sur   \n",
       "5           5  Lenovo        V15 G3 IAP            Core i7  Windows 11 Home   \n",
       "6           6    ASUS    X515EA-EJ522WS            Core i5  Windows 11 Home   \n",
       "7           7      HP     15s- fr4000TU            Core i5  Windows 11 Home   \n",
       "8           8    ASUS    X1500EA-EJ311W            Core i3  Windows 11 Home   \n",
       "9           9      HP       15-fb0147AX  Ryzen 5 Hexa Core  Windows 11 Home   \n",
       "\n",
       "  Storage    RAM           Screen Size Touch_Screen    Price  \n",
       "0  512 GB   8 GB  39.62 cm (15.6 Inch)           No  ₹38,990  \n",
       "1  512 GB   8 GB  39.62 cm (15.6 Inch)           No  ₹37,990  \n",
       "2  256 GB   8 GB  33.78 cm (13.3 inch)           No  ₹70,990  \n",
       "3  256 GB   8 GB  33.78 cm (13.3 inch)           No  ₹70,990  \n",
       "4  256 GB   8 GB  33.78 cm (13.3 inch)           No  ₹70,990  \n",
       "5  512 GB  16 GB  39.62 cm (15.6 Inch)           No  ₹49,990  \n",
       "6     NaN   8 GB  39.62 cm (15.6 Inch)           No  ₹40,990  \n",
       "7  512 GB   8 GB  39.62 cm (15.6 Inch)           No  ₹46,990  \n",
       "8  256 GB   8 GB  39.62 cm (15.6 Inch)           No  ₹27,990  \n",
       "9  512 GB   8 GB  39.62 cm (15.6 Inch)           No  ₹45,990  "
      ]
     },
     "execution_count": 2,
     "metadata": {},
     "output_type": "execute_result"
    }
   ],
   "source": [
    "df = pd.read_csv('Laptops.csv')\n",
    "df.head(10)"
   ]
  },
  {
   "cell_type": "markdown",
   "metadata": {},
   "source": [
    "## EDA"
   ]
  },
  {
   "cell_type": "code",
   "execution_count": 3,
   "metadata": {},
   "outputs": [
    {
     "data": {
      "text/plain": [
       "(837, 10)"
      ]
     },
     "execution_count": 3,
     "metadata": {},
     "output_type": "execute_result"
    }
   ],
   "source": [
    "df.shape"
   ]
  },
  {
   "cell_type": "code",
   "execution_count": 4,
   "metadata": {},
   "outputs": [
    {
     "data": {
      "text/html": [
       "<div>\n",
       "<style scoped>\n",
       "    .dataframe tbody tr th:only-of-type {\n",
       "        vertical-align: middle;\n",
       "    }\n",
       "\n",
       "    .dataframe tbody tr th {\n",
       "        vertical-align: top;\n",
       "    }\n",
       "\n",
       "    .dataframe thead th {\n",
       "        text-align: right;\n",
       "    }\n",
       "</style>\n",
       "<table border=\"1\" class=\"dataframe\">\n",
       "  <thead>\n",
       "    <tr style=\"text-align: right;\">\n",
       "      <th></th>\n",
       "      <th>Brand</th>\n",
       "      <th>Model Name</th>\n",
       "      <th>Processor</th>\n",
       "      <th>Operating System</th>\n",
       "      <th>Storage</th>\n",
       "      <th>RAM</th>\n",
       "      <th>Screen Size</th>\n",
       "      <th>Touch_Screen</th>\n",
       "      <th>Price</th>\n",
       "    </tr>\n",
       "  </thead>\n",
       "  <tbody>\n",
       "    <tr>\n",
       "      <th>0</th>\n",
       "      <td>HP</td>\n",
       "      <td>15s-fq5007TU</td>\n",
       "      <td>Core i3</td>\n",
       "      <td>Windows 11 Home</td>\n",
       "      <td>512 GB</td>\n",
       "      <td>8 GB</td>\n",
       "      <td>39.62 cm (15.6 Inch)</td>\n",
       "      <td>No</td>\n",
       "      <td>₹38,990</td>\n",
       "    </tr>\n",
       "    <tr>\n",
       "      <th>1</th>\n",
       "      <td>HP</td>\n",
       "      <td>15s-fy5003TU</td>\n",
       "      <td>Core i3</td>\n",
       "      <td>Windows 11 Home</td>\n",
       "      <td>512 GB</td>\n",
       "      <td>8 GB</td>\n",
       "      <td>39.62 cm (15.6 Inch)</td>\n",
       "      <td>No</td>\n",
       "      <td>₹37,990</td>\n",
       "    </tr>\n",
       "    <tr>\n",
       "      <th>2</th>\n",
       "      <td>Apple</td>\n",
       "      <td>2020 Macbook Air</td>\n",
       "      <td>M1</td>\n",
       "      <td>Mac OS Big Sur</td>\n",
       "      <td>256 GB</td>\n",
       "      <td>8 GB</td>\n",
       "      <td>33.78 cm (13.3 inch)</td>\n",
       "      <td>No</td>\n",
       "      <td>₹70,990</td>\n",
       "    </tr>\n",
       "    <tr>\n",
       "      <th>3</th>\n",
       "      <td>Apple</td>\n",
       "      <td>2020 Macbook Air</td>\n",
       "      <td>M1</td>\n",
       "      <td>Mac OS Big Sur</td>\n",
       "      <td>256 GB</td>\n",
       "      <td>8 GB</td>\n",
       "      <td>33.78 cm (13.3 inch)</td>\n",
       "      <td>No</td>\n",
       "      <td>₹70,990</td>\n",
       "    </tr>\n",
       "    <tr>\n",
       "      <th>4</th>\n",
       "      <td>Apple</td>\n",
       "      <td>2020 Macbook Air</td>\n",
       "      <td>M1</td>\n",
       "      <td>Mac OS Big Sur</td>\n",
       "      <td>256 GB</td>\n",
       "      <td>8 GB</td>\n",
       "      <td>33.78 cm (13.3 inch)</td>\n",
       "      <td>No</td>\n",
       "      <td>₹70,990</td>\n",
       "    </tr>\n",
       "    <tr>\n",
       "      <th>5</th>\n",
       "      <td>Lenovo</td>\n",
       "      <td>V15 G3 IAP</td>\n",
       "      <td>Core i7</td>\n",
       "      <td>Windows 11 Home</td>\n",
       "      <td>512 GB</td>\n",
       "      <td>16 GB</td>\n",
       "      <td>39.62 cm (15.6 Inch)</td>\n",
       "      <td>No</td>\n",
       "      <td>₹49,990</td>\n",
       "    </tr>\n",
       "    <tr>\n",
       "      <th>6</th>\n",
       "      <td>ASUS</td>\n",
       "      <td>X515EA-EJ522WS</td>\n",
       "      <td>Core i5</td>\n",
       "      <td>Windows 11 Home</td>\n",
       "      <td>NaN</td>\n",
       "      <td>8 GB</td>\n",
       "      <td>39.62 cm (15.6 Inch)</td>\n",
       "      <td>No</td>\n",
       "      <td>₹40,990</td>\n",
       "    </tr>\n",
       "    <tr>\n",
       "      <th>7</th>\n",
       "      <td>HP</td>\n",
       "      <td>15s- fr4000TU</td>\n",
       "      <td>Core i5</td>\n",
       "      <td>Windows 11 Home</td>\n",
       "      <td>512 GB</td>\n",
       "      <td>8 GB</td>\n",
       "      <td>39.62 cm (15.6 Inch)</td>\n",
       "      <td>No</td>\n",
       "      <td>₹46,990</td>\n",
       "    </tr>\n",
       "    <tr>\n",
       "      <th>8</th>\n",
       "      <td>ASUS</td>\n",
       "      <td>X1500EA-EJ311W</td>\n",
       "      <td>Core i3</td>\n",
       "      <td>Windows 11 Home</td>\n",
       "      <td>256 GB</td>\n",
       "      <td>8 GB</td>\n",
       "      <td>39.62 cm (15.6 Inch)</td>\n",
       "      <td>No</td>\n",
       "      <td>₹27,990</td>\n",
       "    </tr>\n",
       "    <tr>\n",
       "      <th>9</th>\n",
       "      <td>HP</td>\n",
       "      <td>15-fb0147AX</td>\n",
       "      <td>Ryzen 5 Hexa Core</td>\n",
       "      <td>Windows 11 Home</td>\n",
       "      <td>512 GB</td>\n",
       "      <td>8 GB</td>\n",
       "      <td>39.62 cm (15.6 Inch)</td>\n",
       "      <td>No</td>\n",
       "      <td>₹45,990</td>\n",
       "    </tr>\n",
       "  </tbody>\n",
       "</table>\n",
       "</div>"
      ],
      "text/plain": [
       "    Brand        Model Name          Processor Operating System Storage  \\\n",
       "0      HP      15s-fq5007TU            Core i3  Windows 11 Home  512 GB   \n",
       "1      HP      15s-fy5003TU            Core i3  Windows 11 Home  512 GB   \n",
       "2   Apple  2020 Macbook Air                 M1   Mac OS Big Sur  256 GB   \n",
       "3   Apple  2020 Macbook Air                 M1   Mac OS Big Sur  256 GB   \n",
       "4   Apple  2020 Macbook Air                 M1   Mac OS Big Sur  256 GB   \n",
       "5  Lenovo        V15 G3 IAP            Core i7  Windows 11 Home  512 GB   \n",
       "6    ASUS    X515EA-EJ522WS            Core i5  Windows 11 Home     NaN   \n",
       "7      HP     15s- fr4000TU            Core i5  Windows 11 Home  512 GB   \n",
       "8    ASUS    X1500EA-EJ311W            Core i3  Windows 11 Home  256 GB   \n",
       "9      HP       15-fb0147AX  Ryzen 5 Hexa Core  Windows 11 Home  512 GB   \n",
       "\n",
       "     RAM           Screen Size Touch_Screen    Price  \n",
       "0   8 GB  39.62 cm (15.6 Inch)           No  ₹38,990  \n",
       "1   8 GB  39.62 cm (15.6 Inch)           No  ₹37,990  \n",
       "2   8 GB  33.78 cm (13.3 inch)           No  ₹70,990  \n",
       "3   8 GB  33.78 cm (13.3 inch)           No  ₹70,990  \n",
       "4   8 GB  33.78 cm (13.3 inch)           No  ₹70,990  \n",
       "5  16 GB  39.62 cm (15.6 Inch)           No  ₹49,990  \n",
       "6   8 GB  39.62 cm (15.6 Inch)           No  ₹40,990  \n",
       "7   8 GB  39.62 cm (15.6 Inch)           No  ₹46,990  \n",
       "8   8 GB  39.62 cm (15.6 Inch)           No  ₹27,990  \n",
       "9   8 GB  39.62 cm (15.6 Inch)           No  ₹45,990  "
      ]
     },
     "execution_count": 4,
     "metadata": {},
     "output_type": "execute_result"
    }
   ],
   "source": [
    "df = df.drop(df.columns[0], axis = 1)\n",
    "df.head(10)"
   ]
  },
  {
   "cell_type": "code",
   "execution_count": 5,
   "metadata": {},
   "outputs": [],
   "source": [
    "df['Price'] = df['Price'].str.replace('₹', '').str.replace(',', '')\n",
    "df['Price'] = pd.to_numeric(df['Price'])\n",
    "\n",
    "df.to_csv('new_laptops.csv', index=False)"
   ]
  },
  {
   "cell_type": "code",
   "execution_count": 6,
   "metadata": {},
   "outputs": [],
   "source": [
    "numerical_df = df.select_dtypes(include=['number']).columns\n",
    "categorical_df = df.select_dtypes(exclude=['number']).columns"
   ]
  },
  {
   "cell_type": "code",
   "execution_count": 7,
   "metadata": {},
   "outputs": [
    {
     "data": {
      "text/plain": [
       "Index(['Price'], dtype='object')"
      ]
     },
     "execution_count": 7,
     "metadata": {},
     "output_type": "execute_result"
    }
   ],
   "source": [
    "numerical_df"
   ]
  },
  {
   "cell_type": "code",
   "execution_count": 8,
   "metadata": {},
   "outputs": [
    {
     "data": {
      "text/plain": [
       "Brand                0\n",
       "Model Name           0\n",
       "Processor            0\n",
       "Operating System     0\n",
       "Storage             12\n",
       "RAM                  0\n",
       "Screen Size          0\n",
       "Touch_Screen         0\n",
       "Price                0\n",
       "dtype: int64"
      ]
     },
     "execution_count": 8,
     "metadata": {},
     "output_type": "execute_result"
    }
   ],
   "source": [
    "df.isnull().sum()"
   ]
  },
  {
   "cell_type": "code",
   "execution_count": 9,
   "metadata": {},
   "outputs": [
    {
     "data": {
      "text/plain": [
       "0    512 GB\n",
       "Name: Storage, dtype: object"
      ]
     },
     "execution_count": 9,
     "metadata": {},
     "output_type": "execute_result"
    }
   ],
   "source": [
    "df['Storage'].mode()"
   ]
  },
  {
   "cell_type": "code",
   "execution_count": 10,
   "metadata": {},
   "outputs": [],
   "source": [
    "from sklearn.impute import SimpleImputer\n",
    "\n",
    "impute_mode = SimpleImputer(strategy = 'most_frequent')\n",
    "impute_mode.fit(df[['Storage']])\n",
    "df[['Storage']] = impute_mode.transform(df[['Storage']])"
   ]
  },
  {
   "cell_type": "code",
   "execution_count": 11,
   "metadata": {},
   "outputs": [
    {
     "data": {
      "text/plain": [
       "Brand               0\n",
       "Model Name          0\n",
       "Processor           0\n",
       "Operating System    0\n",
       "Storage             0\n",
       "RAM                 0\n",
       "Screen Size         0\n",
       "Touch_Screen        0\n",
       "Price               0\n",
       "dtype: int64"
      ]
     },
     "execution_count": 11,
     "metadata": {},
     "output_type": "execute_result"
    }
   ],
   "source": [
    "df.isnull().sum()"
   ]
  },
  {
   "cell_type": "code",
   "execution_count": 12,
   "metadata": {},
   "outputs": [
    {
     "data": {
      "text/plain": [
       "Text(4.944444444444445, 0.5, 'Number Of Laptops')"
      ]
     },
     "execution_count": 12,
     "metadata": {},
     "output_type": "execute_result"
    },
    {
     "data": {
      "image/png": "[encoded data removed]",
      "text/plain": [
       "<Figure size 1000x500 with 1 Axes>"
      ]
     },
     "metadata": {},
     "output_type": "display_data"
    },
    {
     "data": {
      "image/png": "[encoded data removed]",
      "text/plain": [
       "<Figure size 500x500 with 1 Axes>"
      ]
     },
     "metadata": {},
     "output_type": "display_data"
    }
   ],
   "source": [
    "col_Price = 'Price'\n",
    "col_Price_data = df[col_Price]\n",
    "\n",
    "plt.figure(figsize=(10, 5))\n",
    "plt.subplot(1, 2, 1)\n",
    "sns.displot(col_Price_data, kde = False, bins = 20)\n",
    "plt.title('Price Distribution Before Removing Outliers')\n",
    "plt.xlabel('Price')\n",
    "plt.ylabel('Number Of Laptops')"
   ]
  },
  {
   "cell_type": "code",
   "execution_count": 13,
   "metadata": {},
   "outputs": [
    {
     "data": {
      "image/png": "[encoded data removed]",
      "text/plain": [
       "<Figure size 1000x600 with 1 Axes>"
      ]
     },
     "metadata": {},
     "output_type": "display_data"
    }
   ],
   "source": [
    "plt.figure(figsize=(10, 6))\n",
    "df[[col_Price]].boxplot()\n",
    "plt.title('Box plot of Price')\n",
    "plt.ylabel('Price')\n",
    "plt.xticks([1], [col_Price])\n",
    "plt.grid(True)\n",
    "plt.show()"
   ]
  },
  {
   "cell_type": "code",
   "execution_count": 14,
   "metadata": {},
   "outputs": [
    {
     "name": "stdout",
     "output_type": "stream",
     "text": [
      "First Quartile for the column 'Price' (Q1): 38990.0\n",
      "Third Quartile for the column 'Price' (Q3): 66999.0\n",
      "Interquartile Range for the column 'Price' (IQR): 28009.0\n",
      "Upper Bound: 109012.5\n",
      "Lower Bound: -3023.5\n",
      "Outliers for the column 'Price' :- \n",
      " 0    False\n",
      "1    False\n",
      "2    False\n",
      "3    False\n",
      "4    False\n",
      "5    False\n",
      "6    False\n",
      "7    False\n",
      "8    False\n",
      "9    False\n",
      "Name: Price, dtype: bool\n"
     ]
    }
   ],
   "source": [
    "col_Price = 'Price'\n",
    "col_Price_data = df[col_Price]\n",
    "\n",
    "Q1_Price = col_Price_data.quantile(0.25)\n",
    "Q3_Price = col_Price_data.quantile(0.75)\n",
    "IQR_Price = Q3_Price - Q1_Price\n",
    "upper_bound_Price = Q3_Price + (1.5 * IQR_Price)\n",
    "lower_bound_Price = Q1_Price - (1.5 * IQR_Price)\n",
    "outliers_Price = (col_Price_data < lower_bound_Price) | (col_Price_data > upper_bound_Price)\n",
    "\n",
    "print(\"First Quartile for the column 'Price' (Q1):\", Q1_Price)\n",
    "print(\"Third Quartile for the column 'Price' (Q3):\", Q3_Price)\n",
    "print(\"Interquartile Range for the column 'Price' (IQR):\", IQR_Price)\n",
    "print(\"Upper Bound:\", upper_bound_Price)\n",
    "print(\"Lower Bound:\", lower_bound_Price)\n",
    "print(\"Outliers for the column 'Price' :- \\n\", outliers_Price.head(10))"
   ]
  },
  {
   "cell_type": "code",
   "execution_count": 15,
   "metadata": {},
   "outputs": [
    {
     "data": {
      "image/png": "[encoded data removed]",
      "text/plain": [
       "<Figure size 800x600 with 1 Axes>"
      ]
     },
     "metadata": {},
     "output_type": "display_data"
    }
   ],
   "source": [
    "plt.figure(figsize=(8, 6))\n",
    "col_Price_data[~outliers_Price].plot(kind='box')\n",
    "plt.title('Price without Outliers')\n",
    "plt.ylabel('Price')\n",
    "plt.show()"
   ]
  },
  {
   "cell_type": "code",
   "execution_count": 16,
   "metadata": {},
   "outputs": [
    {
     "data": {
      "text/plain": [
       "Text(4.944444444444445, 0.5, 'Number Of Laptops')"
      ]
     },
     "execution_count": 16,
     "metadata": {},
     "output_type": "execute_result"
    },
    {
     "data": {
      "image/png": "[encoded data removed]",
      "text/plain": [
       "<Figure size 1000x500 with 1 Axes>"
      ]
     },
     "metadata": {},
     "output_type": "display_data"
    },
    {
     "data": {
      "image/png": "[encoded data removed]",
      "text/plain": [
       "<Figure size 500x500 with 1 Axes>"
      ]
     },
     "metadata": {},
     "output_type": "display_data"
    }
   ],
   "source": [
    "plt.figure(figsize=(10, 5))\n",
    "plt.subplot(1, 2, 1)\n",
    "sns.displot(col_Price_data[~outliers_Price], kde = False, bins = 20)\n",
    "plt.title('Price Distribution After Removing Outliers')\n",
    "plt.xlabel('Price')\n",
    "plt.ylabel('Number Of Laptops')"
   ]
  },
  {
   "cell_type": "markdown",
   "metadata": {},
   "source": [
    "## Handling Categorical Data"
   ]
  },
  {
   "cell_type": "code",
   "execution_count": 17,
   "metadata": {},
   "outputs": [
    {
     "data": {
      "text/plain": [
       "Index(['Brand', 'Model Name', 'Processor', 'Operating System', 'Storage',\n",
       "       'RAM', 'Screen Size', 'Touch_Screen'],\n",
       "      dtype='object')"
      ]
     },
     "execution_count": 17,
     "metadata": {},
     "output_type": "execute_result"
    }
   ],
   "source": [
    "categorical_df"
   ]
  },
  {
   "cell_type": "code",
   "execution_count": 18,
   "metadata": {},
   "outputs": [
    {
     "data": {
      "text/html": [
       "<div>\n",
       "<style scoped>\n",
       "    .dataframe tbody tr th:only-of-type {\n",
       "        vertical-align: middle;\n",
       "    }\n",
       "\n",
       "    .dataframe tbody tr th {\n",
       "        vertical-align: top;\n",
       "    }\n",
       "\n",
       "    .dataframe thead th {\n",
       "        text-align: right;\n",
       "    }\n",
       "</style>\n",
       "<table border=\"1\" class=\"dataframe\">\n",
       "  <thead>\n",
       "    <tr style=\"text-align: right;\">\n",
       "      <th></th>\n",
       "      <th>Price</th>\n",
       "      <th>Brand_ASUS</th>\n",
       "      <th>Brand_Acer</th>\n",
       "      <th>Brand_Apple</th>\n",
       "      <th>Brand_CHUWI</th>\n",
       "      <th>Brand_DELL</th>\n",
       "      <th>Brand_GIGABYTE</th>\n",
       "      <th>Brand_HP</th>\n",
       "      <th>Brand_Infinix</th>\n",
       "      <th>Brand_LG</th>\n",
       "      <th>...</th>\n",
       "      <th>Screen Size_40.64 cm (16 inch)</th>\n",
       "      <th>Screen Size_40.89 cm (16.1 Inch)</th>\n",
       "      <th>Screen Size_40.89 cm (16.1 inch)</th>\n",
       "      <th>Screen Size_41.15 cm (16.2 inch)</th>\n",
       "      <th>Screen Size_43.94 cm (17.3 Inch)</th>\n",
       "      <th>Screen Size_43.94 cm (17.3 inch)</th>\n",
       "      <th>Screen Size_90.32 cm (35.56 cm)</th>\n",
       "      <th>Screen Size_96.52 cm (38 cm)</th>\n",
       "      <th>Touch_Screen_No</th>\n",
       "      <th>Touch_Screen_Yes</th>\n",
       "    </tr>\n",
       "  </thead>\n",
       "  <tbody>\n",
       "    <tr>\n",
       "      <th>0</th>\n",
       "      <td>38990</td>\n",
       "      <td>0</td>\n",
       "      <td>0</td>\n",
       "      <td>0</td>\n",
       "      <td>0</td>\n",
       "      <td>0</td>\n",
       "      <td>0</td>\n",
       "      <td>1</td>\n",
       "      <td>0</td>\n",
       "      <td>0</td>\n",
       "      <td>...</td>\n",
       "      <td>0</td>\n",
       "      <td>0</td>\n",
       "      <td>0</td>\n",
       "      <td>0</td>\n",
       "      <td>0</td>\n",
       "      <td>0</td>\n",
       "      <td>0</td>\n",
       "      <td>0</td>\n",
       "      <td>1</td>\n",
       "      <td>0</td>\n",
       "    </tr>\n",
       "    <tr>\n",
       "      <th>1</th>\n",
       "      <td>37990</td>\n",
       "      <td>0</td>\n",
       "      <td>0</td>\n",
       "      <td>0</td>\n",
       "      <td>0</td>\n",
       "      <td>0</td>\n",
       "      <td>0</td>\n",
       "      <td>1</td>\n",
       "      <td>0</td>\n",
       "      <td>0</td>\n",
       "      <td>...</td>\n",
       "      <td>0</td>\n",
       "      <td>0</td>\n",
       "      <td>0</td>\n",
       "      <td>0</td>\n",
       "      <td>0</td>\n",
       "      <td>0</td>\n",
       "      <td>0</td>\n",
       "      <td>0</td>\n",
       "      <td>1</td>\n",
       "      <td>0</td>\n",
       "    </tr>\n",
       "    <tr>\n",
       "      <th>2</th>\n",
       "      <td>70990</td>\n",
       "      <td>0</td>\n",
       "      <td>0</td>\n",
       "      <td>1</td>\n",
       "      <td>0</td>\n",
       "      <td>0</td>\n",
       "      <td>0</td>\n",
       "      <td>0</td>\n",
       "      <td>0</td>\n",
       "      <td>0</td>\n",
       "      <td>...</td>\n",
       "      <td>0</td>\n",
       "      <td>0</td>\n",
       "      <td>0</td>\n",
       "      <td>0</td>\n",
       "      <td>0</td>\n",
       "      <td>0</td>\n",
       "      <td>0</td>\n",
       "      <td>0</td>\n",
       "      <td>1</td>\n",
       "      <td>0</td>\n",
       "    </tr>\n",
       "    <tr>\n",
       "      <th>3</th>\n",
       "      <td>70990</td>\n",
       "      <td>0</td>\n",
       "      <td>0</td>\n",
       "      <td>1</td>\n",
       "      <td>0</td>\n",
       "      <td>0</td>\n",
       "      <td>0</td>\n",
       "      <td>0</td>\n",
       "      <td>0</td>\n",
       "      <td>0</td>\n",
       "      <td>...</td>\n",
       "      <td>0</td>\n",
       "      <td>0</td>\n",
       "      <td>0</td>\n",
       "      <td>0</td>\n",
       "      <td>0</td>\n",
       "      <td>0</td>\n",
       "      <td>0</td>\n",
       "      <td>0</td>\n",
       "      <td>1</td>\n",
       "      <td>0</td>\n",
       "    </tr>\n",
       "    <tr>\n",
       "      <th>4</th>\n",
       "      <td>70990</td>\n",
       "      <td>0</td>\n",
       "      <td>0</td>\n",
       "      <td>1</td>\n",
       "      <td>0</td>\n",
       "      <td>0</td>\n",
       "      <td>0</td>\n",
       "      <td>0</td>\n",
       "      <td>0</td>\n",
       "      <td>0</td>\n",
       "      <td>...</td>\n",
       "      <td>0</td>\n",
       "      <td>0</td>\n",
       "      <td>0</td>\n",
       "      <td>0</td>\n",
       "      <td>0</td>\n",
       "      <td>0</td>\n",
       "      <td>0</td>\n",
       "      <td>0</td>\n",
       "      <td>1</td>\n",
       "      <td>0</td>\n",
       "    </tr>\n",
       "    <tr>\n",
       "      <th>5</th>\n",
       "      <td>49990</td>\n",
       "      <td>0</td>\n",
       "      <td>0</td>\n",
       "      <td>0</td>\n",
       "      <td>0</td>\n",
       "      <td>0</td>\n",
       "      <td>0</td>\n",
       "      <td>0</td>\n",
       "      <td>0</td>\n",
       "      <td>0</td>\n",
       "      <td>...</td>\n",
       "      <td>0</td>\n",
       "      <td>0</td>\n",
       "      <td>0</td>\n",
       "      <td>0</td>\n",
       "      <td>0</td>\n",
       "      <td>0</td>\n",
       "      <td>0</td>\n",
       "      <td>0</td>\n",
       "      <td>1</td>\n",
       "      <td>0</td>\n",
       "    </tr>\n",
       "    <tr>\n",
       "      <th>6</th>\n",
       "      <td>40990</td>\n",
       "      <td>1</td>\n",
       "      <td>0</td>\n",
       "      <td>0</td>\n",
       "      <td>0</td>\n",
       "      <td>0</td>\n",
       "      <td>0</td>\n",
       "      <td>0</td>\n",
       "      <td>0</td>\n",
       "      <td>0</td>\n",
       "      <td>...</td>\n",
       "      <td>0</td>\n",
       "      <td>0</td>\n",
       "      <td>0</td>\n",
       "      <td>0</td>\n",
       "      <td>0</td>\n",
       "      <td>0</td>\n",
       "      <td>0</td>\n",
       "      <td>0</td>\n",
       "      <td>1</td>\n",
       "      <td>0</td>\n",
       "    </tr>\n",
       "    <tr>\n",
       "      <th>7</th>\n",
       "      <td>46990</td>\n",
       "      <td>0</td>\n",
       "      <td>0</td>\n",
       "      <td>0</td>\n",
       "      <td>0</td>\n",
       "      <td>0</td>\n",
       "      <td>0</td>\n",
       "      <td>1</td>\n",
       "      <td>0</td>\n",
       "      <td>0</td>\n",
       "      <td>...</td>\n",
       "      <td>0</td>\n",
       "      <td>0</td>\n",
       "      <td>0</td>\n",
       "      <td>0</td>\n",
       "      <td>0</td>\n",
       "      <td>0</td>\n",
       "      <td>0</td>\n",
       "      <td>0</td>\n",
       "      <td>1</td>\n",
       "      <td>0</td>\n",
       "    </tr>\n",
       "    <tr>\n",
       "      <th>8</th>\n",
       "      <td>27990</td>\n",
       "      <td>1</td>\n",
       "      <td>0</td>\n",
       "      <td>0</td>\n",
       "      <td>0</td>\n",
       "      <td>0</td>\n",
       "      <td>0</td>\n",
       "      <td>0</td>\n",
       "      <td>0</td>\n",
       "      <td>0</td>\n",
       "      <td>...</td>\n",
       "      <td>0</td>\n",
       "      <td>0</td>\n",
       "      <td>0</td>\n",
       "      <td>0</td>\n",
       "      <td>0</td>\n",
       "      <td>0</td>\n",
       "      <td>0</td>\n",
       "      <td>0</td>\n",
       "      <td>1</td>\n",
       "      <td>0</td>\n",
       "    </tr>\n",
       "    <tr>\n",
       "      <th>9</th>\n",
       "      <td>45990</td>\n",
       "      <td>0</td>\n",
       "      <td>0</td>\n",
       "      <td>0</td>\n",
       "      <td>0</td>\n",
       "      <td>0</td>\n",
       "      <td>0</td>\n",
       "      <td>1</td>\n",
       "      <td>0</td>\n",
       "      <td>0</td>\n",
       "      <td>...</td>\n",
       "      <td>0</td>\n",
       "      <td>0</td>\n",
       "      <td>0</td>\n",
       "      <td>0</td>\n",
       "      <td>0</td>\n",
       "      <td>0</td>\n",
       "      <td>0</td>\n",
       "      <td>0</td>\n",
       "      <td>1</td>\n",
       "      <td>0</td>\n",
       "    </tr>\n",
       "  </tbody>\n",
       "</table>\n",
       "<p>10 rows × 495 columns</p>\n",
       "</div>"
      ],
      "text/plain": [
       "   Price  Brand_ASUS  Brand_Acer  Brand_Apple  Brand_CHUWI  Brand_DELL  \\\n",
       "0  38990           0           0            0            0           0   \n",
       "1  37990           0           0            0            0           0   \n",
       "2  70990           0           0            1            0           0   \n",
       "3  70990           0           0            1            0           0   \n",
       "4  70990           0           0            1            0           0   \n",
       "5  49990           0           0            0            0           0   \n",
       "6  40990           1           0            0            0           0   \n",
       "7  46990           0           0            0            0           0   \n",
       "8  27990           1           0            0            0           0   \n",
       "9  45990           0           0            0            0           0   \n",
       "\n",
       "   Brand_GIGABYTE  Brand_HP  Brand_Infinix  Brand_LG  ...  \\\n",
       "0               0         1              0         0  ...   \n",
       "1               0         1              0         0  ...   \n",
       "2               0         0              0         0  ...   \n",
       "3               0         0              0         0  ...   \n",
       "4               0         0              0         0  ...   \n",
       "5               0         0              0         0  ...   \n",
       "6               0         0              0         0  ...   \n",
       "7               0         1              0         0  ...   \n",
       "8               0         0              0         0  ...   \n",
       "9               0         1              0         0  ...   \n",
       "\n",
       "   Screen Size_40.64 cm (16 inch)  Screen Size_40.89 cm (16.1 Inch)  \\\n",
       "0                               0                                 0   \n",
       "1                               0                                 0   \n",
       "2                               0                                 0   \n",
       "3                               0                                 0   \n",
       "4                               0                                 0   \n",
       "5                               0                                 0   \n",
       "6                               0                                 0   \n",
       "7                               0                                 0   \n",
       "8                               0                                 0   \n",
       "9                               0                                 0   \n",
       "\n",
       "   Screen Size_40.89 cm (16.1 inch)  Screen Size_41.15 cm (16.2 inch)  \\\n",
       "0                                 0                                 0   \n",
       "1                                 0                                 0   \n",
       "2                                 0                                 0   \n",
       "3                                 0                                 0   \n",
       "4                                 0                                 0   \n",
       "5                                 0                                 0   \n",
       "6                                 0                                 0   \n",
       "7                                 0                                 0   \n",
       "8                                 0                                 0   \n",
       "9                                 0                                 0   \n",
       "\n",
       "   Screen Size_43.94 cm (17.3 Inch)  Screen Size_43.94 cm (17.3 inch)  \\\n",
       "0                                 0                                 0   \n",
       "1                                 0                                 0   \n",
       "2                                 0                                 0   \n",
       "3                                 0                                 0   \n",
       "4                                 0                                 0   \n",
       "5                                 0                                 0   \n",
       "6                                 0                                 0   \n",
       "7                                 0                                 0   \n",
       "8                                 0                                 0   \n",
       "9                                 0                                 0   \n",
       "\n",
       "   Screen Size_90.32 cm (35.56 cm)  Screen Size_96.52 cm (38 cm)  \\\n",
       "0                                0                             0   \n",
       "1                                0                             0   \n",
       "2                                0                             0   \n",
       "3                                0                             0   \n",
       "4                                0                             0   \n",
       "5                                0                             0   \n",
       "6                                0                             0   \n",
       "7                                0                             0   \n",
       "8                                0                             0   \n",
       "9                                0                             0   \n",
       "\n",
       "   Touch_Screen_No  Touch_Screen_Yes  \n",
       "0                1                 0  \n",
       "1                1                 0  \n",
       "2                1                 0  \n",
       "3                1                 0  \n",
       "4                1                 0  \n",
       "5                1                 0  \n",
       "6                1                 0  \n",
       "7                1                 0  \n",
       "8                1                 0  \n",
       "9                1                 0  \n",
       "\n",
       "[10 rows x 495 columns]"
      ]
     },
     "execution_count": 18,
     "metadata": {},
     "output_type": "execute_result"
    }
   ],
   "source": [
    "col_to_encode = ['Brand', 'Model Name', 'Processor', 'Operating System', 'Storage',\n",
    "       'RAM', 'Screen Size', 'Touch_Screen']\n",
    "encoded_df = pd.get_dummies(df, columns = col_to_encode)\n",
    "encoded_df.to_csv('encoded_new_laptops.csv', index=False)\n",
    "encoded_df.head(10)"
   ]
  },
  {
   "cell_type": "markdown",
   "metadata": {},
   "source": [
    "## Feature Selection"
   ]
  },
  {
   "cell_type": "code",
   "execution_count": 19,
   "metadata": {},
   "outputs": [
    {
     "data": {
      "text/html": [
       "<div>\n",
       "<style scoped>\n",
       "    .dataframe tbody tr th:only-of-type {\n",
       "        vertical-align: middle;\n",
       "    }\n",
       "\n",
       "    .dataframe tbody tr th {\n",
       "        vertical-align: top;\n",
       "    }\n",
       "\n",
       "    .dataframe thead th {\n",
       "        text-align: right;\n",
       "    }\n",
       "</style>\n",
       "<table border=\"1\" class=\"dataframe\">\n",
       "  <thead>\n",
       "    <tr style=\"text-align: right;\">\n",
       "      <th></th>\n",
       "      <th>Brand_ASUS</th>\n",
       "      <th>Brand_Acer</th>\n",
       "      <th>Brand_Apple</th>\n",
       "      <th>Brand_CHUWI</th>\n",
       "      <th>Brand_DELL</th>\n",
       "      <th>Brand_GIGABYTE</th>\n",
       "      <th>Brand_HP</th>\n",
       "      <th>Brand_Infinix</th>\n",
       "      <th>Brand_LG</th>\n",
       "      <th>Brand_Lenovo</th>\n",
       "      <th>...</th>\n",
       "      <th>Screen Size_40.89 cm (16.1 Inch)</th>\n",
       "      <th>Screen Size_40.89 cm (16.1 inch)</th>\n",
       "      <th>Screen Size_41.15 cm (16.2 inch)</th>\n",
       "      <th>Screen Size_43.94 cm (17.3 Inch)</th>\n",
       "      <th>Screen Size_43.94 cm (17.3 inch)</th>\n",
       "      <th>Screen Size_90.32 cm (35.56 cm)</th>\n",
       "      <th>Screen Size_96.52 cm (38 cm)</th>\n",
       "      <th>Touch_Screen_No</th>\n",
       "      <th>Touch_Screen_Yes</th>\n",
       "      <th>Price</th>\n",
       "    </tr>\n",
       "  </thead>\n",
       "  <tbody>\n",
       "    <tr>\n",
       "      <th>0</th>\n",
       "      <td>0</td>\n",
       "      <td>0</td>\n",
       "      <td>0</td>\n",
       "      <td>0</td>\n",
       "      <td>0</td>\n",
       "      <td>0</td>\n",
       "      <td>1</td>\n",
       "      <td>0</td>\n",
       "      <td>0</td>\n",
       "      <td>0</td>\n",
       "      <td>...</td>\n",
       "      <td>0</td>\n",
       "      <td>0</td>\n",
       "      <td>0</td>\n",
       "      <td>0</td>\n",
       "      <td>0</td>\n",
       "      <td>0</td>\n",
       "      <td>0</td>\n",
       "      <td>1</td>\n",
       "      <td>0</td>\n",
       "      <td>38990</td>\n",
       "    </tr>\n",
       "    <tr>\n",
       "      <th>1</th>\n",
       "      <td>0</td>\n",
       "      <td>0</td>\n",
       "      <td>0</td>\n",
       "      <td>0</td>\n",
       "      <td>0</td>\n",
       "      <td>0</td>\n",
       "      <td>1</td>\n",
       "      <td>0</td>\n",
       "      <td>0</td>\n",
       "      <td>0</td>\n",
       "      <td>...</td>\n",
       "      <td>0</td>\n",
       "      <td>0</td>\n",
       "      <td>0</td>\n",
       "      <td>0</td>\n",
       "      <td>0</td>\n",
       "      <td>0</td>\n",
       "      <td>0</td>\n",
       "      <td>1</td>\n",
       "      <td>0</td>\n",
       "      <td>37990</td>\n",
       "    </tr>\n",
       "    <tr>\n",
       "      <th>2</th>\n",
       "      <td>0</td>\n",
       "      <td>0</td>\n",
       "      <td>1</td>\n",
       "      <td>0</td>\n",
       "      <td>0</td>\n",
       "      <td>0</td>\n",
       "      <td>0</td>\n",
       "      <td>0</td>\n",
       "      <td>0</td>\n",
       "      <td>0</td>\n",
       "      <td>...</td>\n",
       "      <td>0</td>\n",
       "      <td>0</td>\n",
       "      <td>0</td>\n",
       "      <td>0</td>\n",
       "      <td>0</td>\n",
       "      <td>0</td>\n",
       "      <td>0</td>\n",
       "      <td>1</td>\n",
       "      <td>0</td>\n",
       "      <td>70990</td>\n",
       "    </tr>\n",
       "    <tr>\n",
       "      <th>3</th>\n",
       "      <td>0</td>\n",
       "      <td>0</td>\n",
       "      <td>1</td>\n",
       "      <td>0</td>\n",
       "      <td>0</td>\n",
       "      <td>0</td>\n",
       "      <td>0</td>\n",
       "      <td>0</td>\n",
       "      <td>0</td>\n",
       "      <td>0</td>\n",
       "      <td>...</td>\n",
       "      <td>0</td>\n",
       "      <td>0</td>\n",
       "      <td>0</td>\n",
       "      <td>0</td>\n",
       "      <td>0</td>\n",
       "      <td>0</td>\n",
       "      <td>0</td>\n",
       "      <td>1</td>\n",
       "      <td>0</td>\n",
       "      <td>70990</td>\n",
       "    </tr>\n",
       "    <tr>\n",
       "      <th>4</th>\n",
       "      <td>0</td>\n",
       "      <td>0</td>\n",
       "      <td>1</td>\n",
       "      <td>0</td>\n",
       "      <td>0</td>\n",
       "      <td>0</td>\n",
       "      <td>0</td>\n",
       "      <td>0</td>\n",
       "      <td>0</td>\n",
       "      <td>0</td>\n",
       "      <td>...</td>\n",
       "      <td>0</td>\n",
       "      <td>0</td>\n",
       "      <td>0</td>\n",
       "      <td>0</td>\n",
       "      <td>0</td>\n",
       "      <td>0</td>\n",
       "      <td>0</td>\n",
       "      <td>1</td>\n",
       "      <td>0</td>\n",
       "      <td>70990</td>\n",
       "    </tr>\n",
       "    <tr>\n",
       "      <th>5</th>\n",
       "      <td>0</td>\n",
       "      <td>0</td>\n",
       "      <td>0</td>\n",
       "      <td>0</td>\n",
       "      <td>0</td>\n",
       "      <td>0</td>\n",
       "      <td>0</td>\n",
       "      <td>0</td>\n",
       "      <td>0</td>\n",
       "      <td>1</td>\n",
       "      <td>...</td>\n",
       "      <td>0</td>\n",
       "      <td>0</td>\n",
       "      <td>0</td>\n",
       "      <td>0</td>\n",
       "      <td>0</td>\n",
       "      <td>0</td>\n",
       "      <td>0</td>\n",
       "      <td>1</td>\n",
       "      <td>0</td>\n",
       "      <td>49990</td>\n",
       "    </tr>\n",
       "    <tr>\n",
       "      <th>6</th>\n",
       "      <td>1</td>\n",
       "      <td>0</td>\n",
       "      <td>0</td>\n",
       "      <td>0</td>\n",
       "      <td>0</td>\n",
       "      <td>0</td>\n",
       "      <td>0</td>\n",
       "      <td>0</td>\n",
       "      <td>0</td>\n",
       "      <td>0</td>\n",
       "      <td>...</td>\n",
       "      <td>0</td>\n",
       "      <td>0</td>\n",
       "      <td>0</td>\n",
       "      <td>0</td>\n",
       "      <td>0</td>\n",
       "      <td>0</td>\n",
       "      <td>0</td>\n",
       "      <td>1</td>\n",
       "      <td>0</td>\n",
       "      <td>40990</td>\n",
       "    </tr>\n",
       "    <tr>\n",
       "      <th>7</th>\n",
       "      <td>0</td>\n",
       "      <td>0</td>\n",
       "      <td>0</td>\n",
       "      <td>0</td>\n",
       "      <td>0</td>\n",
       "      <td>0</td>\n",
       "      <td>1</td>\n",
       "      <td>0</td>\n",
       "      <td>0</td>\n",
       "      <td>0</td>\n",
       "      <td>...</td>\n",
       "      <td>0</td>\n",
       "      <td>0</td>\n",
       "      <td>0</td>\n",
       "      <td>0</td>\n",
       "      <td>0</td>\n",
       "      <td>0</td>\n",
       "      <td>0</td>\n",
       "      <td>1</td>\n",
       "      <td>0</td>\n",
       "      <td>46990</td>\n",
       "    </tr>\n",
       "    <tr>\n",
       "      <th>8</th>\n",
       "      <td>1</td>\n",
       "      <td>0</td>\n",
       "      <td>0</td>\n",
       "      <td>0</td>\n",
       "      <td>0</td>\n",
       "      <td>0</td>\n",
       "      <td>0</td>\n",
       "      <td>0</td>\n",
       "      <td>0</td>\n",
       "      <td>0</td>\n",
       "      <td>...</td>\n",
       "      <td>0</td>\n",
       "      <td>0</td>\n",
       "      <td>0</td>\n",
       "      <td>0</td>\n",
       "      <td>0</td>\n",
       "      <td>0</td>\n",
       "      <td>0</td>\n",
       "      <td>1</td>\n",
       "      <td>0</td>\n",
       "      <td>27990</td>\n",
       "    </tr>\n",
       "    <tr>\n",
       "      <th>9</th>\n",
       "      <td>0</td>\n",
       "      <td>0</td>\n",
       "      <td>0</td>\n",
       "      <td>0</td>\n",
       "      <td>0</td>\n",
       "      <td>0</td>\n",
       "      <td>1</td>\n",
       "      <td>0</td>\n",
       "      <td>0</td>\n",
       "      <td>0</td>\n",
       "      <td>...</td>\n",
       "      <td>0</td>\n",
       "      <td>0</td>\n",
       "      <td>0</td>\n",
       "      <td>0</td>\n",
       "      <td>0</td>\n",
       "      <td>0</td>\n",
       "      <td>0</td>\n",
       "      <td>1</td>\n",
       "      <td>0</td>\n",
       "      <td>45990</td>\n",
       "    </tr>\n",
       "  </tbody>\n",
       "</table>\n",
       "<p>10 rows × 495 columns</p>\n",
       "</div>"
      ],
      "text/plain": [
       "   Brand_ASUS  Brand_Acer  Brand_Apple  Brand_CHUWI  Brand_DELL  \\\n",
       "0           0           0            0            0           0   \n",
       "1           0           0            0            0           0   \n",
       "2           0           0            1            0           0   \n",
       "3           0           0            1            0           0   \n",
       "4           0           0            1            0           0   \n",
       "5           0           0            0            0           0   \n",
       "6           1           0            0            0           0   \n",
       "7           0           0            0            0           0   \n",
       "8           1           0            0            0           0   \n",
       "9           0           0            0            0           0   \n",
       "\n",
       "   Brand_GIGABYTE  Brand_HP  Brand_Infinix  Brand_LG  Brand_Lenovo  ...  \\\n",
       "0               0         1              0         0             0  ...   \n",
       "1               0         1              0         0             0  ...   \n",
       "2               0         0              0         0             0  ...   \n",
       "3               0         0              0         0             0  ...   \n",
       "4               0         0              0         0             0  ...   \n",
       "5               0         0              0         0             1  ...   \n",
       "6               0         0              0         0             0  ...   \n",
       "7               0         1              0         0             0  ...   \n",
       "8               0         0              0         0             0  ...   \n",
       "9               0         1              0         0             0  ...   \n",
       "\n",
       "   Screen Size_40.89 cm (16.1 Inch)  Screen Size_40.89 cm (16.1 inch)  \\\n",
       "0                                 0                                 0   \n",
       "1                                 0                                 0   \n",
       "2                                 0                                 0   \n",
       "3                                 0                                 0   \n",
       "4                                 0                                 0   \n",
       "5                                 0                                 0   \n",
       "6                                 0                                 0   \n",
       "7                                 0                                 0   \n",
       "8                                 0                                 0   \n",
       "9                                 0                                 0   \n",
       "\n",
       "   Screen Size_41.15 cm (16.2 inch)  Screen Size_43.94 cm (17.3 Inch)  \\\n",
       "0                                 0                                 0   \n",
       "1                                 0                                 0   \n",
       "2                                 0                                 0   \n",
       "3                                 0                                 0   \n",
       "4                                 0                                 0   \n",
       "5                                 0                                 0   \n",
       "6                                 0                                 0   \n",
       "7                                 0                                 0   \n",
       "8                                 0                                 0   \n",
       "9                                 0                                 0   \n",
       "\n",
       "   Screen Size_43.94 cm (17.3 inch)  Screen Size_90.32 cm (35.56 cm)  \\\n",
       "0                                 0                                0   \n",
       "1                                 0                                0   \n",
       "2                                 0                                0   \n",
       "3                                 0                                0   \n",
       "4                                 0                                0   \n",
       "5                                 0                                0   \n",
       "6                                 0                                0   \n",
       "7                                 0                                0   \n",
       "8                                 0                                0   \n",
       "9                                 0                                0   \n",
       "\n",
       "   Screen Size_96.52 cm (38 cm)  Touch_Screen_No  Touch_Screen_Yes  Price  \n",
       "0                             0                1                 0  38990  \n",
       "1                             0                1                 0  37990  \n",
       "2                             0                1                 0  70990  \n",
       "3                             0                1                 0  70990  \n",
       "4                             0                1                 0  70990  \n",
       "5                             0                1                 0  49990  \n",
       "6                             0                1                 0  40990  \n",
       "7                             0                1                 0  46990  \n",
       "8                             0                1                 0  27990  \n",
       "9                             0                1                 0  45990  \n",
       "\n",
       "[10 rows x 495 columns]"
      ]
     },
     "execution_count": 19,
     "metadata": {},
     "output_type": "execute_result"
    }
   ],
   "source": [
    "df_before = encoded_df.iloc[:, 1:495]\n",
    "df_after = encoded_df.iloc[:, 495:]\n",
    "encoded_df = pd.concat([df_before, encoded_df['Price'], df_after], axis=1)\n",
    "encoded_df.head(10)"
   ]
  },
  {
   "cell_type": "code",
   "execution_count": 20,
   "metadata": {},
   "outputs": [],
   "source": [
    "encoded_df.rename(columns=lambda x: x.replace('Brand_', ''), inplace=True)\n",
    "encoded_df.rename(columns=lambda x: x.replace('Processor_', ''), inplace=True)\n",
    "encoded_df.rename(columns=lambda x: x.replace('Operating System_', ''), inplace=True)\n",
    "encoded_df.rename(columns=lambda x: x.replace('Storage_', ''), inplace=True)\n",
    "encoded_df.rename(columns=lambda x: x.replace('RAM_', ''), inplace=True)\n",
    "encoded_df.rename(columns=lambda x: x.replace('Touch_Screen_', ''), inplace=True)"
   ]
  },
  {
   "cell_type": "code",
   "execution_count": 21,
   "metadata": {},
   "outputs": [],
   "source": [
    "drop_ModelName = [col for col in encoded_df.columns if 'Model Name_' in col]\n",
    "encoded_df.drop(columns=drop_ModelName, inplace=True)\n",
    "\n",
    "drop_ScreenSize = [col for col in encoded_df.columns if 'Screen Size_' in col]\n",
    "encoded_df.drop(columns=drop_ScreenSize, inplace=True)"
   ]
  },
  {
   "cell_type": "code",
   "execution_count": 22,
   "metadata": {},
   "outputs": [
    {
     "data": {
      "text/plain": [
       "(837, 81)"
      ]
     },
     "execution_count": 22,
     "metadata": {},
     "output_type": "execute_result"
    }
   ],
   "source": [
    "encoded_df.shape"
   ]
  },
  {
   "cell_type": "markdown",
   "metadata": {},
   "source": [
    "## Fitting Model Using Linear Regression"
   ]
  },
  {
   "cell_type": "code",
   "execution_count": 23,
   "metadata": {},
   "outputs": [
    {
     "name": "stdout",
     "output_type": "stream",
     "text": [
      "R-squared score on training set: 0.882460873673103\n",
      "R-squared score on test set: -1.175916141144909e+23\n"
     ]
    }
   ],
   "source": [
    "from sklearn.model_selection import train_test_split\n",
    "from sklearn.linear_model import LinearRegression\n",
    "from sklearn.metrics import r2_score\n",
    "\n",
    "X = encoded_df.iloc[:, :80]\n",
    "Y = encoded_df.iloc[:, 80:]\n",
    "X_train, X_test, Y_train, Y_test = train_test_split(X, Y, test_size=0.2, random_state=2)\n",
    "\n",
    "lr = LinearRegression()\n",
    "lr.fit(X_train, Y_train)\n",
    "\n",
    "Y_pred_train = lr.predict(X_train)\n",
    "Y_pred_test = lr.predict(X_test)\n",
    "\n",
    "r2_train = r2_score(Y_train, Y_pred_train)\n",
    "r2_test = r2_score(Y_test, Y_pred_test)\n",
    "print(\"R-squared score on training set:\", r2_train)\n",
    "print(\"R-squared score on test set:\", r2_test)\n"
   ]
  },
  {
   "cell_type": "code",
   "execution_count": 24,
   "metadata": {},
   "outputs": [
    {
     "data": {
      "text/plain": [
       "ExtraTreesRegressor()"
      ]
     },
     "execution_count": 24,
     "metadata": {},
     "output_type": "execute_result"
    }
   ],
   "source": [
    "# Important feature using ExtraTreesRegressor\n",
    "\n",
    "X = X.to_numpy()\n",
    "Y = Y.to_numpy().ravel()\n",
    "\n",
    "from sklearn.ensemble import ExtraTreesRegressor\n",
    "selection = ExtraTreesRegressor()\n",
    "selection.fit(X, Y)"
   ]
  },
  {
   "cell_type": "code",
   "execution_count": 25,
   "metadata": {},
   "outputs": [
    {
     "name": "stdout",
     "output_type": "stream",
     "text": [
      "[5.45457728e-03 1.17756910e-03 5.04293791e-02 1.74132415e-03\n",
      " 4.98817937e-03 1.98562122e-04 2.62357214e-03 2.66324396e-02\n",
      " 3.17214119e-04 6.39599527e-03 6.72534056e-03 2.96302983e-03\n",
      " 3.52190407e-06 3.15090335e-03 9.61944577e-04 1.16383891e-03\n",
      " 4.22081588e-03 1.30867528e-05 3.13197416e-06 5.74065896e-06\n",
      " 2.79922248e-06 3.91761773e-03 2.61322495e-02 8.98178305e-02\n",
      " 3.11173151e-02 2.60113878e-04 2.84111115e-05 8.44614115e-03\n",
      " 4.40816019e-04 4.63549714e-05 9.88929184e-04 3.04835615e-06\n",
      " 6.29316988e-07 7.86436518e-08 3.96214208e-06 5.11291086e-05\n",
      " 1.31357650e-06 2.93150991e-04 1.84617713e-05 1.83285504e-06\n",
      " 4.91599674e-03 5.63035931e-04 1.63293478e-02 2.93841624e-07\n",
      " 3.33449084e-05 1.02845951e-03 1.03327850e-04 2.36138263e-05\n",
      " 2.51884502e-05 7.36539619e-05 2.39304768e-04 7.08841449e-05\n",
      " 8.23318299e-03 3.52190407e-06 3.07328750e-04 8.01785260e-04\n",
      " 1.35323905e-02 2.53322465e-06 3.87874396e-03 3.74911190e-04\n",
      " 7.53469854e-04 2.84111115e-05 1.50221093e-02 2.80822495e-06\n",
      " 1.31304014e-03 1.57594107e-02 5.15375436e-04 3.38951653e-03\n",
      " 2.51542996e-03 3.16071157e-03 6.35496631e-07 1.36839954e-05\n",
      " 1.31181891e-01 7.53469854e-04 2.41624611e-01 6.68126587e-04\n",
      " 2.42972997e-01 1.37007882e-03 3.61872818e-03 4.05229378e-03]\n"
     ]
    }
   ],
   "source": [
    "print(selection.feature_importances_)"
   ]
  },
  {
   "cell_type": "markdown",
   "metadata": {},
   "source": [
    "## Fitting Model Using Random Forest"
   ]
  },
  {
   "cell_type": "code",
   "execution_count": 26,
   "metadata": {},
   "outputs": [
    {
     "name": "stdout",
     "output_type": "stream",
     "text": [
      "Accuracy for training data =  0.9421102734827285\n",
      "Accuracy for testing data =  0.6057799670532098\n"
     ]
    }
   ],
   "source": [
    "X = encoded_df.iloc[:, :80]\n",
    "Y = encoded_df.iloc[:, 80:]\n",
    "\n",
    "X = X.to_numpy()\n",
    "Y = Y.to_numpy().ravel()\n",
    "\n",
    "from sklearn.model_selection import train_test_split\n",
    "x_train, x_test, y_train, y_test = train_test_split(X, Y, test_size = 0.2, random_state = 42)\n",
    "\n",
    "from sklearn.ensemble import RandomForestRegressor\n",
    "reg_rf = RandomForestRegressor()\n",
    "reg_rf.fit(x_train, y_train)\n",
    "\n",
    "y_pred = reg_rf.predict(x_test)\n",
    "\n",
    "print(\"Accuracy for training data = \", reg_rf.score(x_train, y_train))\n",
    "print(\"Accuracy for testing data = \", reg_rf.score(x_test, y_test))"
   ]
  },
  {
   "cell_type": "code",
   "execution_count": 27,
   "metadata": {},
   "outputs": [
    {
     "data": {
      "image/png": "[encoded data removed]",
      "text/plain": [
       "<Figure size 500x500 with 1 Axes>"
      ]
     },
     "metadata": {},
     "output_type": "display_data"
    }
   ],
   "source": [
    "sns.displot(y_test-y_pred)\n",
    "plt.show()"
   ]
  },
  {
   "cell_type": "code",
   "execution_count": 28,
   "metadata": {},
   "outputs": [
    {
     "data": {
      "image/png": "[encoded data removed]",
      "text/plain": [
       "<Figure size 640x480 with 1 Axes>"
      ]
     },
     "metadata": {},
     "output_type": "display_data"
    }
   ],
   "source": [
    "plt.scatter(y_test, y_pred, alpha = 0.5)\n",
    "plt.xlabel(\"y_test\")\n",
    "plt.ylabel(\"y_pred\")\n",
    "plt.show()"
   ]
  },
  {
   "cell_type": "code",
   "execution_count": 29,
   "metadata": {},
   "outputs": [
    {
     "name": "stdout",
     "output_type": "stream",
     "text": [
      "MAE: 7224.775027006854\n",
      "MSE: 215030715.84643278\n",
      "RMSE: 14663.925662878708\n"
     ]
    }
   ],
   "source": [
    "import numpy as np\n",
    "from sklearn import metrics\n",
    "\n",
    "print('MAE:', metrics.mean_absolute_error(y_test, y_pred))\n",
    "print('MSE:', metrics.mean_squared_error(y_test, y_pred))\n",
    "print('RMSE:', np.sqrt(metrics.mean_squared_error(y_test, y_pred)))"
   ]
  },
  {
   "cell_type": "code",
   "execution_count": 30,
   "metadata": {},
   "outputs": [
    {
     "data": {
      "text/plain": [
       "0.0043735374476987455"
      ]
     },
     "execution_count": 30,
     "metadata": {},
     "output_type": "execute_result"
    }
   ],
   "source": [
    "# RMSE/(max(DV)-min(DV))\n",
    "\n",
    "2090.5509/(max(Y)-min(Y))"
   ]
  },
  {
   "cell_type": "code",
   "execution_count": 31,
   "metadata": {},
   "outputs": [
    {
     "data": {
      "text/plain": [
       "0.6057799670532098"
      ]
     },
     "execution_count": 31,
     "metadata": {},
     "output_type": "execute_result"
    }
   ],
   "source": [
    "metrics.r2_score(y_test, y_pred)"
   ]
  },
  {
   "cell_type": "markdown",
   "metadata": {},
   "source": [
    "## Hyperparameter Tuning"
   ]
  },
  {
   "cell_type": "code",
   "execution_count": 32,
   "metadata": {},
   "outputs": [],
   "source": [
    "from sklearn.model_selection import RandomizedSearchCV\n",
    "\n",
    "n_estimators = [int(x) for x in np.linspace(start = 100, stop = 1200, num = 12)]\n",
    "max_features = ['auto', 'sqrt']\n",
    "max_depth = [int(x) for x in np.linspace(2, 30, num = 5)]\n",
    "min_samples_split = [2, 5, 10, 15, 100]\n",
    "min_samples_leaf = [1, 2, 5, 10]"
   ]
  },
  {
   "cell_type": "code",
   "execution_count": 33,
   "metadata": {},
   "outputs": [],
   "source": [
    "# Create the random grid\n",
    "\n",
    "random_grid = {'n_estimators': n_estimators,\n",
    "               'max_features': max_features,\n",
    "               'max_depth': max_depth,\n",
    "               'min_samples_split': min_samples_split,\n",
    "               'min_samples_leaf': min_samples_leaf}"
   ]
  },
  {
   "cell_type": "code",
   "execution_count": 34,
   "metadata": {},
   "outputs": [],
   "source": [
    "# Random search of parameters, using 5 fold cross validation, \n",
    "# search across 100 different combinations\n",
    "\n",
    "rf_random = RandomizedSearchCV(estimator = reg_rf, param_distributions = random_grid,scoring='neg_mean_squared_error', n_iter = 10, cv = 5, verbose=2, random_state=42, n_jobs = 1)"
   ]
  },
  {
   "cell_type": "code",
   "execution_count": 35,
   "metadata": {},
   "outputs": [
    {
     "name": "stdout",
     "output_type": "stream",
     "text": [
      "Fitting 5 folds for each of 10 candidates, totalling 50 fits\n",
      "[CV] END max_depth=9, max_features=sqrt, min_samples_leaf=5, min_samples_split=5, n_estimators=900; total time=   0.8s\n",
      "[CV] END max_depth=9, max_features=sqrt, min_samples_leaf=5, min_samples_split=5, n_estimators=900; total time=   0.7s\n",
      "[CV] END max_depth=9, max_features=sqrt, min_samples_leaf=5, min_samples_split=5, n_estimators=900; total time=   0.7s\n",
      "[CV] END max_depth=9, max_features=sqrt, min_samples_leaf=5, min_samples_split=5, n_estimators=900; total time=   0.7s\n",
      "[CV] END max_depth=9, max_features=sqrt, min_samples_leaf=5, min_samples_split=5, n_estimators=900; total time=   0.7s\n",
      "[CV] END max_depth=16, max_features=sqrt, min_samples_leaf=2, min_samples_split=10, n_estimators=1100; total time=   0.9s\n",
      "[CV] END max_depth=16, max_features=sqrt, min_samples_leaf=2, min_samples_split=10, n_estimators=1100; total time=   1.0s\n",
      "[CV] END max_depth=16, max_features=sqrt, min_samples_leaf=2, min_samples_split=10, n_estimators=1100; total time=   0.9s\n",
      "[CV] END max_depth=16, max_features=sqrt, min_samples_leaf=2, min_samples_split=10, n_estimators=1100; total time=   0.9s\n",
      "[CV] END max_depth=16, max_features=sqrt, min_samples_leaf=2, min_samples_split=10, n_estimators=1100; total time=   1.0s\n",
      "[CV] END max_depth=16, max_features=auto, min_samples_leaf=5, min_samples_split=100, n_estimators=300; total time=   0.3s\n",
      "[CV] END max_depth=16, max_features=auto, min_samples_leaf=5, min_samples_split=100, n_estimators=300; total time=   0.3s\n",
      "[CV] END max_depth=16, max_features=auto, min_samples_leaf=5, min_samples_split=100, n_estimators=300; total time=   0.3s\n",
      "[CV] END max_depth=16, max_features=auto, min_samples_leaf=5, min_samples_split=100, n_estimators=300; total time=   0.2s\n",
      "[CV] END max_depth=16, max_features=auto, min_samples_leaf=5, min_samples_split=100, n_estimators=300; total time=   0.3s\n",
      "[CV] END max_depth=16, max_features=auto, min_samples_leaf=5, min_samples_split=5, n_estimators=400; total time=   0.5s\n",
      "[CV] END max_depth=16, max_features=auto, min_samples_leaf=5, min_samples_split=5, n_estimators=400; total time=   0.5s\n",
      "[CV] END max_depth=16, max_features=auto, min_samples_leaf=5, min_samples_split=5, n_estimators=400; total time=   0.5s\n",
      "[CV] END max_depth=16, max_features=auto, min_samples_leaf=5, min_samples_split=5, n_estimators=400; total time=   0.4s\n",
      "[CV] END max_depth=16, max_features=auto, min_samples_leaf=5, min_samples_split=5, n_estimators=400; total time=   0.5s\n",
      "[CV] END max_depth=23, max_features=auto, min_samples_leaf=10, min_samples_split=5, n_estimators=700; total time=   0.8s\n",
      "[CV] END max_depth=23, max_features=auto, min_samples_leaf=10, min_samples_split=5, n_estimators=700; total time=   0.8s\n",
      "[CV] END max_depth=23, max_features=auto, min_samples_leaf=10, min_samples_split=5, n_estimators=700; total time=   0.8s\n",
      "[CV] END max_depth=23, max_features=auto, min_samples_leaf=10, min_samples_split=5, n_estimators=700; total time=   0.8s\n",
      "[CV] END max_depth=23, max_features=auto, min_samples_leaf=10, min_samples_split=5, n_estimators=700; total time=   0.8s\n",
      "[CV] END max_depth=30, max_features=sqrt, min_samples_leaf=1, min_samples_split=2, n_estimators=1000; total time=   1.1s\n",
      "[CV] END max_depth=30, max_features=sqrt, min_samples_leaf=1, min_samples_split=2, n_estimators=1000; total time=   1.2s\n",
      "[CV] END max_depth=30, max_features=sqrt, min_samples_leaf=1, min_samples_split=2, n_estimators=1000; total time=   1.1s\n",
      "[CV] END max_depth=30, max_features=sqrt, min_samples_leaf=1, min_samples_split=2, n_estimators=1000; total time=   1.1s\n",
      "[CV] END max_depth=30, max_features=sqrt, min_samples_leaf=1, min_samples_split=2, n_estimators=1000; total time=   1.1s\n",
      "[CV] END max_depth=2, max_features=sqrt, min_samples_leaf=10, min_samples_split=15, n_estimators=1100; total time=   0.9s\n",
      "[CV] END max_depth=2, max_features=sqrt, min_samples_leaf=10, min_samples_split=15, n_estimators=1100; total time=   0.8s\n",
      "[CV] END max_depth=2, max_features=sqrt, min_samples_leaf=10, min_samples_split=15, n_estimators=1100; total time=   0.8s\n",
      "[CV] END max_depth=2, max_features=sqrt, min_samples_leaf=10, min_samples_split=15, n_estimators=1100; total time=   0.8s\n",
      "[CV] END max_depth=2, max_features=sqrt, min_samples_leaf=10, min_samples_split=15, n_estimators=1100; total time=   0.8s\n",
      "[CV] END max_depth=16, max_features=sqrt, min_samples_leaf=1, min_samples_split=15, n_estimators=300; total time=   0.2s\n",
      "[CV] END max_depth=16, max_features=sqrt, min_samples_leaf=1, min_samples_split=15, n_estimators=300; total time=   0.2s\n",
      "[CV] END max_depth=16, max_features=sqrt, min_samples_leaf=1, min_samples_split=15, n_estimators=300; total time=   0.2s\n",
      "[CV] END max_depth=16, max_features=sqrt, min_samples_leaf=1, min_samples_split=15, n_estimators=300; total time=   0.2s\n",
      "[CV] END max_depth=16, max_features=sqrt, min_samples_leaf=1, min_samples_split=15, n_estimators=300; total time=   0.2s\n",
      "[CV] END max_depth=2, max_features=sqrt, min_samples_leaf=2, min_samples_split=10, n_estimators=700; total time=   0.5s\n",
      "[CV] END max_depth=2, max_features=sqrt, min_samples_leaf=2, min_samples_split=10, n_estimators=700; total time=   0.5s\n",
      "[CV] END max_depth=2, max_features=sqrt, min_samples_leaf=2, min_samples_split=10, n_estimators=700; total time=   0.5s\n",
      "[CV] END max_depth=2, max_features=sqrt, min_samples_leaf=2, min_samples_split=10, n_estimators=700; total time=   0.5s\n",
      "[CV] END max_depth=2, max_features=sqrt, min_samples_leaf=2, min_samples_split=10, n_estimators=700; total time=   0.5s\n",
      "[CV] END max_depth=23, max_features=auto, min_samples_leaf=1, min_samples_split=15, n_estimators=700; total time=   1.1s\n",
      "[CV] END max_depth=23, max_features=auto, min_samples_leaf=1, min_samples_split=15, n_estimators=700; total time=   1.1s\n",
      "[CV] END max_depth=23, max_features=auto, min_samples_leaf=1, min_samples_split=15, n_estimators=700; total time=   1.1s\n",
      "[CV] END max_depth=23, max_features=auto, min_samples_leaf=1, min_samples_split=15, n_estimators=700; total time=   1.1s\n",
      "[CV] END max_depth=23, max_features=auto, min_samples_leaf=1, min_samples_split=15, n_estimators=700; total time=   1.1s\n"
     ]
    },
    {
     "data": {
      "text/plain": [
       "RandomizedSearchCV(cv=5, estimator=RandomForestRegressor(), n_jobs=1,\n",
       "                   param_distributions={'max_depth': [2, 9, 16, 23, 30],\n",
       "                                        'max_features': ['auto', 'sqrt'],\n",
       "                                        'min_samples_leaf': [1, 2, 5, 10],\n",
       "                                        'min_samples_split': [2, 5, 10, 15,\n",
       "                                                              100],\n",
       "                                        'n_estimators': [100, 200, 300, 400,\n",
       "                                                         500, 600, 700, 800,\n",
       "                                                         900, 1000, 1100,\n",
       "                                                         1200]},\n",
       "                   random_state=42, scoring='neg_mean_squared_error',\n",
       "                   verbose=2)"
      ]
     },
     "execution_count": 35,
     "metadata": {},
     "output_type": "execute_result"
    }
   ],
   "source": [
    "rf_random.fit(x_train,y_train)"
   ]
  },
  {
   "cell_type": "code",
   "execution_count": 36,
   "metadata": {},
   "outputs": [
    {
     "data": {
      "text/plain": [
       "{'n_estimators': 1000,\n",
       " 'min_samples_split': 2,\n",
       " 'min_samples_leaf': 1,\n",
       " 'max_features': 'sqrt',\n",
       " 'max_depth': 30}"
      ]
     },
     "execution_count": 36,
     "metadata": {},
     "output_type": "execute_result"
    }
   ],
   "source": [
    "rf_random.best_params_"
   ]
  },
  {
   "cell_type": "code",
   "execution_count": 37,
   "metadata": {},
   "outputs": [],
   "source": [
    "prediction = rf_random.predict(x_test)"
   ]
  },
  {
   "cell_type": "code",
   "execution_count": 38,
   "metadata": {},
   "outputs": [
    {
     "data": {
      "text/plain": [
       "<Figure size 800x800 with 0 Axes>"
      ]
     },
     "metadata": {},
     "output_type": "display_data"
    },
    {
     "data": {
      "image/png": "[encoded data removed]",
      "text/plain": [
       "<Figure size 500x500 with 1 Axes>"
      ]
     },
     "metadata": {},
     "output_type": "display_data"
    }
   ],
   "source": [
    "plt.figure(figsize = (8,8))\n",
    "sns.displot(y_test-prediction)\n",
    "plt.show()"
   ]
  },
  {
   "cell_type": "code",
   "execution_count": 39,
   "metadata": {},
   "outputs": [
    {
     "data": {
      "image/png": "[encoded data removed]",
      "text/plain": [
       "<Figure size 800x800 with 1 Axes>"
      ]
     },
     "metadata": {},
     "output_type": "display_data"
    }
   ],
   "source": [
    "plt.figure(figsize = (8,8))\n",
    "plt.scatter(y_test, prediction, alpha = 0.5)\n",
    "plt.xlabel(\"y_test\")\n",
    "plt.ylabel(\"y_pred\")\n",
    "plt.show()"
   ]
  },
  {
   "cell_type": "code",
   "execution_count": 40,
   "metadata": {},
   "outputs": [
    {
     "name": "stdout",
     "output_type": "stream",
     "text": [
      "MAE: 7816.755375075371\n",
      "MSE: 211958295.02783445\n",
      "RMSE: 14558.787553496151\n"
     ]
    }
   ],
   "source": [
    "print('MAE:', metrics.mean_absolute_error(y_test, prediction))\n",
    "print('MSE:', metrics.mean_squared_error(y_test, prediction))\n",
    "print('RMSE:', np.sqrt(metrics.mean_squared_error(y_test, prediction)))"
   ]
  },
  {
   "cell_type": "markdown",
   "metadata": {},
   "source": [
    "## Save the model to reuse it again"
   ]
  },
  {
   "cell_type": "code",
   "execution_count": 41,
   "metadata": {},
   "outputs": [],
   "source": [
    "import pickle\n",
    "# open a file, where you want to store the data\n",
    "file = open('LaptopPrice_Predictor.pkl', 'wb')\n",
    "\n",
    "# dump information to that file\n",
    "pickle.dump(rf_random, file)"
   ]
  },
  {
   "cell_type": "code",
   "execution_count": 42,
   "metadata": {},
   "outputs": [],
   "source": [
    "model = open('LaptopPrice_Predictor.pkl','rb')\n",
    "forest = pickle.load(model)"
   ]
  },
  {
   "cell_type": "code",
   "execution_count": 43,
   "metadata": {},
   "outputs": [],
   "source": [
    "y_prediction = forest.predict(x_test)"
   ]
  },
  {
   "cell_type": "code",
   "execution_count": 44,
   "metadata": {},
   "outputs": [
    {
     "data": {
      "text/plain": [
       "0.6114126964591764"
      ]
     },
     "execution_count": 44,
     "metadata": {},
     "output_type": "execute_result"
    }
   ],
   "source": [
    "metrics.r2_score(y_test, y_prediction)"
   ]
  },
  {
   "cell_type": "code",
   "execution_count": null,
   "metadata": {},
   "outputs": [],
   "source": []
  },
  {
   "cell_type": "code",
   "execution_count": 92,
   "metadata": {},
   "outputs": [
    {
     "data": {
      "text/html": [
       "<div>\n",
       "<style scoped>\n",
       "    .dataframe tbody tr th:only-of-type {\n",
       "        vertical-align: middle;\n",
       "    }\n",
       "\n",
       "    .dataframe tbody tr th {\n",
       "        vertical-align: top;\n",
       "    }\n",
       "\n",
       "    .dataframe thead th {\n",
       "        text-align: right;\n",
       "    }\n",
       "</style>\n",
       "<table border=\"1\" class=\"dataframe\">\n",
       "  <thead>\n",
       "    <tr style=\"text-align: right;\">\n",
       "      <th></th>\n",
       "      <th>Brand</th>\n",
       "      <th>Model Name</th>\n",
       "      <th>Processor</th>\n",
       "      <th>Operating System</th>\n",
       "      <th>Storage</th>\n",
       "      <th>RAM</th>\n",
       "      <th>Screen Size</th>\n",
       "      <th>Touch_Screen</th>\n",
       "      <th>Price</th>\n",
       "    </tr>\n",
       "  </thead>\n",
       "  <tbody>\n",
       "    <tr>\n",
       "      <th>0</th>\n",
       "      <td>HP</td>\n",
       "      <td>15s-fq5007TU</td>\n",
       "      <td>Core i3</td>\n",
       "      <td>Windows 11 Home</td>\n",
       "      <td>512 GB</td>\n",
       "      <td>8 GB</td>\n",
       "      <td>39.62 cm (15.6 Inch)</td>\n",
       "      <td>No</td>\n",
       "      <td>38990</td>\n",
       "    </tr>\n",
       "    <tr>\n",
       "      <th>1</th>\n",
       "      <td>HP</td>\n",
       "      <td>15s-fy5003TU</td>\n",
       "      <td>Core i3</td>\n",
       "      <td>Windows 11 Home</td>\n",
       "      <td>512 GB</td>\n",
       "      <td>8 GB</td>\n",
       "      <td>39.62 cm (15.6 Inch)</td>\n",
       "      <td>No</td>\n",
       "      <td>37990</td>\n",
       "    </tr>\n",
       "    <tr>\n",
       "      <th>2</th>\n",
       "      <td>Apple</td>\n",
       "      <td>2020 Macbook Air</td>\n",
       "      <td>M1</td>\n",
       "      <td>Mac OS Big Sur</td>\n",
       "      <td>256 GB</td>\n",
       "      <td>8 GB</td>\n",
       "      <td>33.78 cm (13.3 inch)</td>\n",
       "      <td>No</td>\n",
       "      <td>70990</td>\n",
       "    </tr>\n",
       "    <tr>\n",
       "      <th>3</th>\n",
       "      <td>Apple</td>\n",
       "      <td>2020 Macbook Air</td>\n",
       "      <td>M1</td>\n",
       "      <td>Mac OS Big Sur</td>\n",
       "      <td>256 GB</td>\n",
       "      <td>8 GB</td>\n",
       "      <td>33.78 cm (13.3 inch)</td>\n",
       "      <td>No</td>\n",
       "      <td>70990</td>\n",
       "    </tr>\n",
       "    <tr>\n",
       "      <th>4</th>\n",
       "      <td>Apple</td>\n",
       "      <td>2020 Macbook Air</td>\n",
       "      <td>M1</td>\n",
       "      <td>Mac OS Big Sur</td>\n",
       "      <td>256 GB</td>\n",
       "      <td>8 GB</td>\n",
       "      <td>33.78 cm (13.3 inch)</td>\n",
       "      <td>No</td>\n",
       "      <td>70990</td>\n",
       "    </tr>\n",
       "  </tbody>\n",
       "</table>\n",
       "</div>"
      ],
      "text/plain": [
       "   Brand        Model Name Processor Operating System Storage   RAM  \\\n",
       "0     HP      15s-fq5007TU   Core i3  Windows 11 Home  512 GB  8 GB   \n",
       "1     HP      15s-fy5003TU   Core i3  Windows 11 Home  512 GB  8 GB   \n",
       "2  Apple  2020 Macbook Air        M1   Mac OS Big Sur  256 GB  8 GB   \n",
       "3  Apple  2020 Macbook Air        M1   Mac OS Big Sur  256 GB  8 GB   \n",
       "4  Apple  2020 Macbook Air        M1   Mac OS Big Sur  256 GB  8 GB   \n",
       "\n",
       "            Screen Size Touch_Screen  Price  \n",
       "0  39.62 cm (15.6 Inch)           No  38990  \n",
       "1  39.62 cm (15.6 Inch)           No  37990  \n",
       "2  33.78 cm (13.3 inch)           No  70990  \n",
       "3  33.78 cm (13.3 inch)           No  70990  \n",
       "4  33.78 cm (13.3 inch)           No  70990  "
      ]
     },
     "execution_count": 92,
     "metadata": {},
     "output_type": "execute_result"
    }
   ],
   "source": [
    "new_df = pd.read_csv('new_laptops.csv')\n",
    "new_df.head()"
   ]
  },
  {
   "cell_type": "code",
   "execution_count": 93,
   "metadata": {},
   "outputs": [
    {
     "name": "stdout",
     "output_type": "stream",
     "text": [
      "HP           423\n",
      "ASUS         147\n",
      "Lenovo        62\n",
      "DELL          59\n",
      "Acer          36\n",
      "MSI           32\n",
      "Infinix       29\n",
      "Apple         11\n",
      "SAMSUNG        9\n",
      "CHUWI          7\n",
      "GIGABYTE       5\n",
      "WINGS          4\n",
      "ZEBRONICS      4\n",
      "MICROSOFT      3\n",
      "Ultimus        2\n",
      "LG             2\n",
      "realme         1\n",
      "Primebook      1\n",
      "Name: Brand, dtype: int64\n"
     ]
    }
   ],
   "source": [
    "print(new_df['Brand'].value_counts())\n"
   ]
  },
  {
   "cell_type": "code",
   "execution_count": 94,
   "metadata": {},
   "outputs": [
    {
     "name": "stdout",
     "output_type": "stream",
     "text": [
      "Core i5                   365\n",
      "Core i3                   163\n",
      "Ryzen 5 Hexa Core          82\n",
      "Core i7                    68\n",
      "Ryzen 7 Octa Core          67\n",
      "Celeron Dual Core          16\n",
      "Ryzen 3 Quad Core          14\n",
      "Celeron Quad Core          10\n",
      "Ryzen 5 Quad Core          10\n",
      "Ryzen 3 Dual Core           7\n",
      "Athlon Dual Core            4\n",
      "Core i9                     4\n",
      "Pentium Silver              4\n",
      "M2                          3\n",
      "M1                          3\n",
      "Ryzen 9 Octa Core           2\n",
      "Ryzen 5                     2\n",
      "M1 Max                      1\n",
      "Ryzen 5 Dual Core           1\n",
      "Ryzen 7 Quad Core           1\n",
      "M1 Pro                      1\n",
      "M3 Pro                      1\n",
      "M2 Max                      1\n",
      "MediaTek MT8788             1\n",
      "Ryzen Z1 Octa Core          1\n",
      "MediaTek Kompanio 520       1\n",
      "MediaTek Kompanio 500       1\n",
      "Ryzen Z1 HexaCore           1\n",
      "MediaTek Kompanio 1200      1\n",
      "Ryzen 9 16 Core             1\n",
      "Name: Processor, dtype: int64\n"
     ]
    }
   ],
   "source": [
    "print(new_df['Processor'].value_counts())\n"
   ]
  },
  {
   "cell_type": "code",
   "execution_count": 95,
   "metadata": {},
   "outputs": [
    {
     "name": "stdout",
     "output_type": "stream",
     "text": [
      "Windows 11 Home    758\n",
      "Windows 10 Home     27\n",
      "Chrome              13\n",
      "Windows 10          10\n",
      "DOS                  8\n",
      "Mac OS Monterey      5\n",
      "Windows 11 Pro       5\n",
      "Mac OS Big Sur       3\n",
      "Windows 10 Pro       3\n",
      "Prime OS             1\n",
      "Ubuntu               1\n",
      "macOS Ventura        1\n",
      "macOS Sonoma         1\n",
      "Mac OS Mojave        1\n",
      "Name: Operating System, dtype: int64\n"
     ]
    }
   ],
   "source": [
    "print(new_df['Operating System'].value_counts())"
   ]
  },
  {
   "cell_type": "code",
   "execution_count": 96,
   "metadata": {},
   "outputs": [
    {
     "name": "stdout",
     "output_type": "stream",
     "text": [
      "512 GB    627\n",
      "1 TB      101\n",
      "256 GB     49\n",
      "2 TB       20\n",
      "128 GB     12\n",
      "4 TB       10\n",
      "64 GB       4\n",
      "3 TB        1\n",
      "6 TB        1\n",
      "Name: Storage, dtype: int64\n"
     ]
    }
   ],
   "source": [
    "print(new_df['Storage'].value_counts())"
   ]
  },
  {
   "cell_type": "code",
   "execution_count": 97,
   "metadata": {},
   "outputs": [
    {
     "name": "stdout",
     "output_type": "stream",
     "text": [
      "8 GB     421\n",
      "16 GB    377\n",
      "4 GB      25\n",
      "32 GB      9\n",
      "12 GB      2\n",
      "64 GB      2\n",
      "18 GB      1\n",
      "Name: RAM, dtype: int64\n"
     ]
    }
   ],
   "source": [
    "print(new_df['RAM'].value_counts())\n"
   ]
  },
  {
   "cell_type": "code",
   "execution_count": 98,
   "metadata": {},
   "outputs": [
    {
     "name": "stdout",
     "output_type": "stream",
     "text": [
      "No     740\n",
      "Yes     97\n",
      "Name: Touch_Screen, dtype: int64\n"
     ]
    }
   ],
   "source": [
    "print(new_df['Touch_Screen'].value_counts())"
   ]
  },
  {
   "cell_type": "code",
   "execution_count": null,
   "metadata": {},
   "outputs": [],
   "source": []
  },
  {
   "cell_type": "code",
   "execution_count": 99,
   "metadata": {},
   "outputs": [
    {
     "data": {
      "text/html": [
       "<div>\n",
       "<style scoped>\n",
       "    .dataframe tbody tr th:only-of-type {\n",
       "        vertical-align: middle;\n",
       "    }\n",
       "\n",
       "    .dataframe tbody tr th {\n",
       "        vertical-align: top;\n",
       "    }\n",
       "\n",
       "    .dataframe thead th {\n",
       "        text-align: right;\n",
       "    }\n",
       "</style>\n",
       "<table border=\"1\" class=\"dataframe\">\n",
       "  <thead>\n",
       "    <tr style=\"text-align: right;\">\n",
       "      <th></th>\n",
       "      <th>ASUS</th>\n",
       "      <th>Acer</th>\n",
       "      <th>Apple</th>\n",
       "      <th>CHUWI</th>\n",
       "      <th>DELL</th>\n",
       "      <th>GIGABYTE</th>\n",
       "      <th>HP</th>\n",
       "      <th>Infinix</th>\n",
       "      <th>LG</th>\n",
       "      <th>Lenovo</th>\n",
       "      <th>...</th>\n",
       "      <th>Screen Size_40.89 cm (16.1 Inch)</th>\n",
       "      <th>Screen Size_40.89 cm (16.1 inch)</th>\n",
       "      <th>Screen Size_41.15 cm (16.2 inch)</th>\n",
       "      <th>Screen Size_43.94 cm (17.3 Inch)</th>\n",
       "      <th>Screen Size_43.94 cm (17.3 inch)</th>\n",
       "      <th>Screen Size_90.32 cm (35.56 cm)</th>\n",
       "      <th>Screen Size_96.52 cm (38 cm)</th>\n",
       "      <th>No</th>\n",
       "      <th>Yes</th>\n",
       "      <th>Price</th>\n",
       "    </tr>\n",
       "  </thead>\n",
       "  <tbody>\n",
       "    <tr>\n",
       "      <th>0</th>\n",
       "      <td>0</td>\n",
       "      <td>0</td>\n",
       "      <td>0</td>\n",
       "      <td>0</td>\n",
       "      <td>0</td>\n",
       "      <td>0</td>\n",
       "      <td>1</td>\n",
       "      <td>0</td>\n",
       "      <td>0</td>\n",
       "      <td>0</td>\n",
       "      <td>...</td>\n",
       "      <td>0</td>\n",
       "      <td>0</td>\n",
       "      <td>0</td>\n",
       "      <td>0</td>\n",
       "      <td>0</td>\n",
       "      <td>0</td>\n",
       "      <td>0</td>\n",
       "      <td>1</td>\n",
       "      <td>0</td>\n",
       "      <td>38990</td>\n",
       "    </tr>\n",
       "    <tr>\n",
       "      <th>1</th>\n",
       "      <td>0</td>\n",
       "      <td>0</td>\n",
       "      <td>0</td>\n",
       "      <td>0</td>\n",
       "      <td>0</td>\n",
       "      <td>0</td>\n",
       "      <td>1</td>\n",
       "      <td>0</td>\n",
       "      <td>0</td>\n",
       "      <td>0</td>\n",
       "      <td>...</td>\n",
       "      <td>0</td>\n",
       "      <td>0</td>\n",
       "      <td>0</td>\n",
       "      <td>0</td>\n",
       "      <td>0</td>\n",
       "      <td>0</td>\n",
       "      <td>0</td>\n",
       "      <td>1</td>\n",
       "      <td>0</td>\n",
       "      <td>37990</td>\n",
       "    </tr>\n",
       "    <tr>\n",
       "      <th>2</th>\n",
       "      <td>0</td>\n",
       "      <td>0</td>\n",
       "      <td>1</td>\n",
       "      <td>0</td>\n",
       "      <td>0</td>\n",
       "      <td>0</td>\n",
       "      <td>0</td>\n",
       "      <td>0</td>\n",
       "      <td>0</td>\n",
       "      <td>0</td>\n",
       "      <td>...</td>\n",
       "      <td>0</td>\n",
       "      <td>0</td>\n",
       "      <td>0</td>\n",
       "      <td>0</td>\n",
       "      <td>0</td>\n",
       "      <td>0</td>\n",
       "      <td>0</td>\n",
       "      <td>1</td>\n",
       "      <td>0</td>\n",
       "      <td>70990</td>\n",
       "    </tr>\n",
       "    <tr>\n",
       "      <th>3</th>\n",
       "      <td>0</td>\n",
       "      <td>0</td>\n",
       "      <td>1</td>\n",
       "      <td>0</td>\n",
       "      <td>0</td>\n",
       "      <td>0</td>\n",
       "      <td>0</td>\n",
       "      <td>0</td>\n",
       "      <td>0</td>\n",
       "      <td>0</td>\n",
       "      <td>...</td>\n",
       "      <td>0</td>\n",
       "      <td>0</td>\n",
       "      <td>0</td>\n",
       "      <td>0</td>\n",
       "      <td>0</td>\n",
       "      <td>0</td>\n",
       "      <td>0</td>\n",
       "      <td>1</td>\n",
       "      <td>0</td>\n",
       "      <td>70990</td>\n",
       "    </tr>\n",
       "    <tr>\n",
       "      <th>4</th>\n",
       "      <td>0</td>\n",
       "      <td>0</td>\n",
       "      <td>1</td>\n",
       "      <td>0</td>\n",
       "      <td>0</td>\n",
       "      <td>0</td>\n",
       "      <td>0</td>\n",
       "      <td>0</td>\n",
       "      <td>0</td>\n",
       "      <td>0</td>\n",
       "      <td>...</td>\n",
       "      <td>0</td>\n",
       "      <td>0</td>\n",
       "      <td>0</td>\n",
       "      <td>0</td>\n",
       "      <td>0</td>\n",
       "      <td>0</td>\n",
       "      <td>0</td>\n",
       "      <td>1</td>\n",
       "      <td>0</td>\n",
       "      <td>70990</td>\n",
       "    </tr>\n",
       "  </tbody>\n",
       "</table>\n",
       "<p>5 rows × 495 columns</p>\n",
       "</div>"
      ],
      "text/plain": [
       "   ASUS  Acer  Apple  CHUWI  DELL  GIGABYTE  HP  Infinix  LG  Lenovo  ...  \\\n",
       "0     0     0      0      0     0         0   1        0   0       0  ...   \n",
       "1     0     0      0      0     0         0   1        0   0       0  ...   \n",
       "2     0     0      1      0     0         0   0        0   0       0  ...   \n",
       "3     0     0      1      0     0         0   0        0   0       0  ...   \n",
       "4     0     0      1      0     0         0   0        0   0       0  ...   \n",
       "\n",
       "   Screen Size_40.89 cm (16.1 Inch)  Screen Size_40.89 cm (16.1 inch)  \\\n",
       "0                                 0                                 0   \n",
       "1                                 0                                 0   \n",
       "2                                 0                                 0   \n",
       "3                                 0                                 0   \n",
       "4                                 0                                 0   \n",
       "\n",
       "   Screen Size_41.15 cm (16.2 inch)  Screen Size_43.94 cm (17.3 Inch)  \\\n",
       "0                                 0                                 0   \n",
       "1                                 0                                 0   \n",
       "2                                 0                                 0   \n",
       "3                                 0                                 0   \n",
       "4                                 0                                 0   \n",
       "\n",
       "   Screen Size_43.94 cm (17.3 inch)  Screen Size_90.32 cm (35.56 cm)  \\\n",
       "0                                 0                                0   \n",
       "1                                 0                                0   \n",
       "2                                 0                                0   \n",
       "3                                 0                                0   \n",
       "4                                 0                                0   \n",
       "\n",
       "   Screen Size_96.52 cm (38 cm)  No  Yes  Price  \n",
       "0                             0   1    0  38990  \n",
       "1                             0   1    0  37990  \n",
       "2                             0   1    0  70990  \n",
       "3                             0   1    0  70990  \n",
       "4                             0   1    0  70990  \n",
       "\n",
       "[5 rows x 495 columns]"
      ]
     },
     "execution_count": 99,
     "metadata": {},
     "output_type": "execute_result"
    }
   ],
   "source": [
    "encoded_df.head()"
   ]
  },
  {
   "cell_type": "code",
   "execution_count": 105,
   "metadata": {},
   "outputs": [
    {
     "name": "stdout",
     "output_type": "stream",
     "text": [
      "Core_i3 ,\n",
      "M1 ,\n",
      "Core_i7 ,\n",
      "Core_i5 ,\n",
      "Ryzen_5_Hexa_Core ,\n",
      "Celeron_Dual_Core ,\n",
      "Ryzen_7_Octa_Core ,\n",
      "Ryzen_5_Quad_Core ,\n",
      "Ryzen_3_Dual_Core ,\n",
      "Ryzen_3_Quad_Core ,\n",
      "M2 ,\n",
      "Celeron_Quad_Core ,\n",
      "Athlon_Dual_Core ,\n",
      "MediaTek_Kompanio_1200 ,\n",
      "Ryzen_9_Octa_Core ,\n",
      "MediaTek_MT8788 ,\n",
      "Ryzen_Z1_HexaCore ,\n",
      "MediaTek_Kompanio_500 ,\n",
      "Core_i9 ,\n",
      "MediaTek_Kompanio_520 ,\n",
      "Ryzen_Z1_Octa_Core ,\n",
      "Pentium_Silver ,\n",
      "Ryzen_5 ,\n",
      "M1_Max ,\n",
      "M2_Max ,\n",
      "M3_Pro ,\n",
      "M1_Pro ,\n",
      "Ryzen_7_Quad_Core ,\n",
      "Ryzen_5_Dual_Core ,\n",
      "Ryzen_9_16_Core ,\n"
     ]
    }
   ],
   "source": [
    "distinct_val = new_df['Processor'].unique()\n",
    "for i in distinct_val:\n",
    "    print(i.replace(' ', '_'), ',')"
   ]
  },
  {
   "cell_type": "code",
   "execution_count": null,
   "metadata": {},
   "outputs": [],
   "source": [
    "# -------------------------------------------------------------\n",
    "        # -------------------------------------------------------------\n",
    "        # -------------------------------------------------------------\n",
    "        # -------------------------------------------------------------           \n",
    "            \n",
    "        # Processors"
   ]
  }
 ],
 "metadata": {
  "kernelspec": {
   "display_name": "base",
   "language": "python",
   "name": "python3"
  },
  "language_info": {
   "codemirror_mode": {
    "name": "ipython",
    "version": 3
   },
   "file_extension": ".py",
   "mimetype": "text/x-python",
   "name": "python",
   "nbconvert_exporter": "python",
   "pygments_lexer": "ipython3",
   "version": "3.9.13"
  }
 },
 "nbformat": 4,
 "nbformat_minor": 2
}
